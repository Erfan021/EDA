{
 "cells": [
  {
   "cell_type": "code",
   "execution_count": 1,
   "metadata": {},
   "outputs": [],
   "source": [
    "import pandas as pd\n",
    "import datetime as dt"
   ]
  },
  {
   "cell_type": "markdown",
   "metadata": {},
   "source": [
    "## Review of Python's `datetime` Module"
   ]
  },
  {
   "cell_type": "code",
   "execution_count": 3,
   "metadata": {},
   "outputs": [],
   "source": [
    "someday = dt.date(2010, 1, 20)"
   ]
  },
  {
   "cell_type": "code",
   "execution_count": 4,
   "metadata": {},
   "outputs": [
    {
     "data": {
      "text/plain": [
       "2010"
      ]
     },
     "execution_count": 4,
     "metadata": {},
     "output_type": "execute_result"
    }
   ],
   "source": [
    "someday.year"
   ]
  },
  {
   "cell_type": "code",
   "execution_count": 5,
   "metadata": {},
   "outputs": [
    {
     "data": {
      "text/plain": [
       "1"
      ]
     },
     "execution_count": 5,
     "metadata": {},
     "output_type": "execute_result"
    }
   ],
   "source": [
    "someday.month"
   ]
  },
  {
   "cell_type": "code",
   "execution_count": 6,
   "metadata": {},
   "outputs": [
    {
     "data": {
      "text/plain": [
       "20"
      ]
     },
     "execution_count": 6,
     "metadata": {},
     "output_type": "execute_result"
    }
   ],
   "source": [
    "someday.day"
   ]
  },
  {
   "cell_type": "code",
   "execution_count": 4,
   "metadata": {},
   "outputs": [
    {
     "data": {
      "text/plain": [
       "'2010-01-20'"
      ]
     },
     "execution_count": 4,
     "metadata": {},
     "output_type": "execute_result"
    }
   ],
   "source": [
    "str(someday)"
   ]
  },
  {
   "cell_type": "code",
   "execution_count": 5,
   "metadata": {},
   "outputs": [
    {
     "data": {
      "text/plain": [
       "'2010-01-10 17:13:57'"
      ]
     },
     "execution_count": 5,
     "metadata": {},
     "output_type": "execute_result"
    }
   ],
   "source": [
    "str(dt.datetime(2010, 1, 10, 17, 13, 57))"
   ]
  },
  {
   "cell_type": "code",
   "execution_count": 8,
   "metadata": {},
   "outputs": [],
   "source": [
    "sometime = dt.datetime(2010, 1, 10, 17, 13, 57)"
   ]
  },
  {
   "cell_type": "code",
   "execution_count": 11,
   "metadata": {},
   "outputs": [
    {
     "data": {
      "text/plain": [
       "57"
      ]
     },
     "execution_count": 11,
     "metadata": {},
     "output_type": "execute_result"
    }
   ],
   "source": [
    "# sometime.year\n",
    "# sometime.month\n",
    "# sometime.day\n",
    "# sometime.hour\n",
    "# sometime.minute\n",
    "sometime.second"
   ]
  },
  {
   "cell_type": "markdown",
   "metadata": {},
   "source": [
    "## The `pandas Timestamp` Object"
   ]
  },
  {
   "cell_type": "code",
   "execution_count": 17,
   "metadata": {},
   "outputs": [
    {
     "data": {
      "text/plain": [
       "Timestamp('2021-03-08 08:35:15')"
      ]
     },
     "execution_count": 17,
     "metadata": {},
     "output_type": "execute_result"
    }
   ],
   "source": [
    "# pd.Timestamp(\"2015-03-31\")\n",
    "# pd.Timestamp(\"2015/03/31\")\n",
    "# pd.Timestamp(\"1/1/2015\")\n",
    "# pd.Timestamp(\"19/12/2015\")\n",
    "# pd.Timestamp(\"4/3/2000\")\n",
    "pd.Timestamp(\"2021-03-08 08:35:15\")"
   ]
  },
  {
   "cell_type": "code",
   "execution_count": 21,
   "metadata": {},
   "outputs": [
    {
     "data": {
      "text/plain": [
       "Timestamp('2013-11-04 00:00:00')"
      ]
     },
     "execution_count": 21,
     "metadata": {},
     "output_type": "execute_result"
    }
   ],
   "source": [
    "pd.Timestamp(\"2013, 11, 04\")"
   ]
  },
  {
   "cell_type": "code",
   "execution_count": 22,
   "metadata": {},
   "outputs": [
    {
     "data": {
      "text/plain": [
       "Timestamp('2015-12-19 00:00:00')"
      ]
     },
     "execution_count": 22,
     "metadata": {},
     "output_type": "execute_result"
    }
   ],
   "source": [
    "pd.Timestamp(\"12/19/2015\")"
   ]
  },
  {
   "cell_type": "code",
   "execution_count": 18,
   "metadata": {},
   "outputs": [
    {
     "data": {
      "text/plain": [
       "Timestamp('2021-03-08 18:13:29')"
      ]
     },
     "execution_count": 18,
     "metadata": {},
     "output_type": "execute_result"
    }
   ],
   "source": [
    "pd.Timestamp(\"2021-03-08 6:13:29 PM\")"
   ]
  },
  {
   "cell_type": "code",
   "execution_count": 19,
   "metadata": {},
   "outputs": [
    {
     "data": {
      "text/plain": [
       "Timestamp('2015-01-01 00:00:00')"
      ]
     },
     "execution_count": 19,
     "metadata": {},
     "output_type": "execute_result"
    }
   ],
   "source": [
    "pd.Timestamp(dt.date(2015, 1, 1))"
   ]
  },
  {
   "cell_type": "code",
   "execution_count": 20,
   "metadata": {},
   "outputs": [
    {
     "data": {
      "text/plain": [
       "Timestamp('2000-02-03 21:35:22')"
      ]
     },
     "execution_count": 20,
     "metadata": {},
     "output_type": "execute_result"
    }
   ],
   "source": [
    "pd.Timestamp(dt.datetime(2000, 2, 3, 21, 35, 22))"
   ]
  },
  {
   "cell_type": "markdown",
   "metadata": {},
   "source": [
    "## The `pandas DateTimeIndex` Object"
   ]
  },
  {
   "cell_type": "code",
   "execution_count": 23,
   "metadata": {},
   "outputs": [
    {
     "data": {
      "text/plain": [
       "DatetimeIndex(['2016-01-02', '2016-04-12', '2009-09-07'], dtype='datetime64[ns]', freq=None)"
      ]
     },
     "execution_count": 23,
     "metadata": {},
     "output_type": "execute_result"
    }
   ],
   "source": [
    "dates = [\"2016/01/02\", \"2016/04/12\", \"2009/09/07\"]\n",
    "pd.DatetimeIndex(dates)"
   ]
  },
  {
   "cell_type": "code",
   "execution_count": 24,
   "metadata": {},
   "outputs": [],
   "source": [
    "dates = [dt.date(2016, 1, 10), dt.date(1994, 6, 13), dt.date(2003, 12, 29)]\n",
    "dtIndex = pd.DatetimeIndex(dates)"
   ]
  },
  {
   "cell_type": "code",
   "execution_count": 25,
   "metadata": {},
   "outputs": [
    {
     "data": {
      "text/plain": [
       "2016-01-10    100\n",
       "1994-06-13    200\n",
       "2003-12-29    300\n",
       "dtype: int64"
      ]
     },
     "execution_count": 25,
     "metadata": {},
     "output_type": "execute_result"
    }
   ],
   "source": [
    "values = [100, 200, 300]\n",
    "pd.Series(data = values, index = dtIndex)"
   ]
  },
  {
   "cell_type": "markdown",
   "metadata": {},
   "source": [
    "## The `pd.to_datetime()` Method"
   ]
  },
  {
   "cell_type": "code",
   "execution_count": 26,
   "metadata": {},
   "outputs": [
    {
     "data": {
      "text/plain": [
       "Timestamp('2001-04-19 00:00:00')"
      ]
     },
     "execution_count": 26,
     "metadata": {},
     "output_type": "execute_result"
    }
   ],
   "source": [
    "pd.to_datetime(\"2001-04-19\")"
   ]
  },
  {
   "cell_type": "code",
   "execution_count": 27,
   "metadata": {},
   "outputs": [
    {
     "data": {
      "text/plain": [
       "Timestamp('2015-01-01 00:00:00')"
      ]
     },
     "execution_count": 27,
     "metadata": {},
     "output_type": "execute_result"
    }
   ],
   "source": [
    "pd.to_datetime(dt.date(2015, 1, 1))"
   ]
  },
  {
   "cell_type": "code",
   "execution_count": 28,
   "metadata": {},
   "outputs": [
    {
     "data": {
      "text/plain": [
       "Timestamp('2015-01-01 14:35:20')"
      ]
     },
     "execution_count": 28,
     "metadata": {},
     "output_type": "execute_result"
    }
   ],
   "source": [
    "pd.to_datetime(dt.datetime(2015, 1, 1, 14, 35, 20))"
   ]
  },
  {
   "cell_type": "code",
   "execution_count": 29,
   "metadata": {},
   "outputs": [
    {
     "data": {
      "text/plain": [
       "DatetimeIndex(['2015-01-03', '2014-02-08', '2016-01-01', '1996-07-04'], dtype='datetime64[ns]', freq=None)"
      ]
     },
     "execution_count": 29,
     "metadata": {},
     "output_type": "execute_result"
    }
   ],
   "source": [
    "pd.to_datetime([\"2015-01-03\", \"2014/02/08\", \"2016\", \"July 4th, 1996\"])"
   ]
  },
  {
   "cell_type": "code",
   "execution_count": 30,
   "metadata": {},
   "outputs": [
    {
     "data": {
      "text/plain": [
       "0        2015-01-03\n",
       "1        2014/02/08\n",
       "2              2016\n",
       "3    July 4th, 1996\n",
       "dtype: object"
      ]
     },
     "execution_count": 30,
     "metadata": {},
     "output_type": "execute_result"
    }
   ],
   "source": [
    "times = pd.Series([\"2015-01-03\", \"2014/02/08\", \"2016\", \"July 4th, 1996\"])\n",
    "times"
   ]
  },
  {
   "cell_type": "code",
   "execution_count": 31,
   "metadata": {},
   "outputs": [
    {
     "data": {
      "text/plain": [
       "0   2015-01-03\n",
       "1   2014-02-08\n",
       "2   2016-01-01\n",
       "3   1996-07-04\n",
       "dtype: datetime64[ns]"
      ]
     },
     "execution_count": 31,
     "metadata": {},
     "output_type": "execute_result"
    }
   ],
   "source": [
    "pd.to_datetime(times)"
   ]
  },
  {
   "cell_type": "code",
   "execution_count": 32,
   "metadata": {},
   "outputs": [
    {
     "data": {
      "text/plain": [
       "0    July 4th, 1996\n",
       "1        10/04/1991\n",
       "2             Hello\n",
       "3        2015-02-31\n",
       "dtype: object"
      ]
     },
     "execution_count": 32,
     "metadata": {},
     "output_type": "execute_result"
    }
   ],
   "source": [
    "dates = pd.Series([\"July 4th, 1996\", \"10/04/1991\", \"Hello\", \"2015-02-31\"])\n",
    "dates"
   ]
  },
  {
   "cell_type": "code",
   "execution_count": 33,
   "metadata": {},
   "outputs": [
    {
     "data": {
      "text/plain": [
       "0   1996-07-04\n",
       "1   1991-10-04\n",
       "2          NaT\n",
       "3          NaT\n",
       "dtype: datetime64[ns]"
      ]
     },
     "execution_count": 33,
     "metadata": {},
     "output_type": "execute_result"
    }
   ],
   "source": [
    "pd.to_datetime(dates, errors = \"coerce\")"
   ]
  },
  {
   "cell_type": "code",
   "execution_count": 34,
   "metadata": {},
   "outputs": [
    {
     "data": {
      "text/plain": [
       "DatetimeIndex(['2012-10-08 18:15:05', '2012-10-09 18:15:05',\n",
       "               '2012-10-10 18:15:05', '2012-10-11 18:15:05',\n",
       "               '2012-10-12 18:15:05'],\n",
       "              dtype='datetime64[ns]', freq=None)"
      ]
     },
     "execution_count": 34,
     "metadata": {},
     "output_type": "execute_result"
    }
   ],
   "source": [
    "pd.to_datetime([1349720105, 1349806505, 1349892905, 1349979305, 1350065705], unit = \"s\")"
   ]
  },
  {
   "cell_type": "code",
   "execution_count": 35,
   "metadata": {},
   "outputs": [
    {
     "data": {
      "text/plain": [
       "Period('2016-01-08', '10D')"
      ]
     },
     "execution_count": 35,
     "metadata": {},
     "output_type": "execute_result"
    }
   ],
   "source": [
    "pd.Period(\"2016-01-08\", freq = \"10D\")"
   ]
  },
  {
   "cell_type": "code",
   "execution_count": 36,
   "metadata": {},
   "outputs": [
    {
     "data": {
      "text/plain": [
       "2016-01    1\n",
       "2016-02    2\n",
       "2016-03    3\n",
       "Freq: 2M, dtype: int64"
      ]
     },
     "execution_count": 36,
     "metadata": {},
     "output_type": "execute_result"
    }
   ],
   "source": [
    "dates = [\"2016-01-01\", \"2016-02-01\", \"2016-03-01\"]\n",
    "pd.Series([1, 2, 3], index = pd.PeriodIndex(dates, freq = \"2M\"))"
   ]
  },
  {
   "cell_type": "code",
   "execution_count": 37,
   "metadata": {},
   "outputs": [
    {
     "data": {
      "text/plain": [
       "2015-12-29/2016-01-04    999\n",
       "2016-01-26/2016-02-01    500\n",
       "2016-01-26/2016-02-01    325\n",
       "Freq: W-MON, Name: Weekly Revenue, dtype: int64"
      ]
     },
     "execution_count": 37,
     "metadata": {},
     "output_type": "execute_result"
    }
   ],
   "source": [
    "pd.Period(\"2016-01-08\", freq = \"W\")\n",
    "pd.Period(\"2016-01-08\", freq = \"W-SUN\")\n",
    "pd.Period(\"2016-01-08\", freq = \"W-WED\")\n",
    "pd.Period(\"2015-12-10\", freq = \"10D\")\n",
    "\n",
    "dates = [\"2016-01-01\", \"2016-02-01\", \"2016-02-01\"]\n",
    "pd.PeriodIndex(dates, freq = \"W-MON\")\n",
    "weeks = pd.PeriodIndex(dates, freq = \"W-MON\")\n",
    "\n",
    "pd.Series([999, 500, 325], index = weeks, name = \"Weekly Revenue\")"
   ]
  },
  {
   "cell_type": "markdown",
   "metadata": {},
   "source": [
    "## Create Range of Dates with the `pd.date_range()` Method, Part 1"
   ]
  },
  {
   "cell_type": "code",
   "execution_count": 38,
   "metadata": {},
   "outputs": [],
   "source": [
    "times = pd.date_range(start = \"2016-01-01\", end = \"2016-01-10\", freq = \"D\")"
   ]
  },
  {
   "cell_type": "markdown",
   "metadata": {},
   "source": [
    "D = Day , 2D,3d....;\n",
    "W = Week; \n",
    "B = Business Days; \n",
    "W-FRI = To start week on particular day; \n",
    "H = Hour , 6H,3H......; \n",
    "M = Month ends; \n",
    "MS = Month sarts; \n",
    "A = Year ends; "
   ]
  },
  {
   "cell_type": "code",
   "execution_count": 39,
   "metadata": {},
   "outputs": [
    {
     "data": {
      "text/plain": [
       "pandas.core.indexes.datetimes.DatetimeIndex"
      ]
     },
     "execution_count": 39,
     "metadata": {},
     "output_type": "execute_result"
    }
   ],
   "source": [
    "type(times)"
   ]
  },
  {
   "cell_type": "code",
   "execution_count": 40,
   "metadata": {},
   "outputs": [
    {
     "data": {
      "text/plain": [
       "pandas._libs.tslibs.timestamps.Timestamp"
      ]
     },
     "execution_count": 40,
     "metadata": {},
     "output_type": "execute_result"
    }
   ],
   "source": [
    "type(times[0])"
   ]
  },
  {
   "cell_type": "code",
   "execution_count": 41,
   "metadata": {},
   "outputs": [
    {
     "data": {
      "text/plain": [
       "DatetimeIndex(['2016-12-31', '2017-12-31', '2018-12-31', '2019-12-31',\n",
       "               '2020-12-31', '2021-12-31', '2022-12-31', '2023-12-31',\n",
       "               '2024-12-31', '2025-12-31', '2026-12-31', '2027-12-31',\n",
       "               '2028-12-31', '2029-12-31', '2030-12-31', '2031-12-31',\n",
       "               '2032-12-31', '2033-12-31', '2034-12-31', '2035-12-31',\n",
       "               '2036-12-31', '2037-12-31', '2038-12-31', '2039-12-31',\n",
       "               '2040-12-31', '2041-12-31', '2042-12-31', '2043-12-31',\n",
       "               '2044-12-31', '2045-12-31', '2046-12-31', '2047-12-31',\n",
       "               '2048-12-31', '2049-12-31'],\n",
       "              dtype='datetime64[ns]', freq='A-DEC')"
      ]
     },
     "execution_count": 41,
     "metadata": {},
     "output_type": "execute_result"
    }
   ],
   "source": [
    "pd.date_range(start = \"2016-01-01\", end = \"2050-01-01\", freq = \"A\")"
   ]
  },
  {
   "cell_type": "markdown",
   "metadata": {},
   "source": [
    "## Create Range of Dates with the `pd.date_range()` Method, Part 2"
   ]
  },
  {
   "cell_type": "code",
   "execution_count": 44,
   "metadata": {
    "scrolled": true
   },
   "outputs": [
    {
     "data": {
      "text/plain": [
       "DatetimeIndex(['2012-09-09 00:00:00', '2012-09-09 06:00:00',\n",
       "               '2012-09-09 12:00:00', '2012-09-09 18:00:00',\n",
       "               '2012-09-10 00:00:00', '2012-09-10 06:00:00',\n",
       "               '2012-09-10 12:00:00', '2012-09-10 18:00:00',\n",
       "               '2012-09-11 00:00:00', '2012-09-11 06:00:00',\n",
       "               '2012-09-11 12:00:00', '2012-09-11 18:00:00',\n",
       "               '2012-09-12 00:00:00', '2012-09-12 06:00:00',\n",
       "               '2012-09-12 12:00:00', '2012-09-12 18:00:00',\n",
       "               '2012-09-13 00:00:00', '2012-09-13 06:00:00',\n",
       "               '2012-09-13 12:00:00', '2012-09-13 18:00:00',\n",
       "               '2012-09-14 00:00:00', '2012-09-14 06:00:00',\n",
       "               '2012-09-14 12:00:00', '2012-09-14 18:00:00',\n",
       "               '2012-09-15 00:00:00'],\n",
       "              dtype='datetime64[ns]', freq='6H')"
      ]
     },
     "execution_count": 44,
     "metadata": {},
     "output_type": "execute_result"
    }
   ],
   "source": [
    "pd.date_range(start = \"2012-09-09\", periods = 25, freq = \"6H\") "
   ]
  },
  {
   "cell_type": "code",
   "execution_count": 45,
   "metadata": {},
   "outputs": [
    {
     "data": {
      "text/plain": [
       "DatetimeIndex(['2012-09-10', '2012-09-11', '2012-09-12', '2012-09-13',\n",
       "               '2012-09-14', '2012-09-17', '2012-09-18', '2012-09-19',\n",
       "               '2012-09-20', '2012-09-21', '2012-09-24', '2012-09-25',\n",
       "               '2012-09-26', '2012-09-27', '2012-09-28', '2012-10-01',\n",
       "               '2012-10-02', '2012-10-03', '2012-10-04', '2012-10-05',\n",
       "               '2012-10-08', '2012-10-09', '2012-10-10', '2012-10-11',\n",
       "               '2012-10-12', '2012-10-15', '2012-10-16', '2012-10-17',\n",
       "               '2012-10-18', '2012-10-19', '2012-10-22', '2012-10-23',\n",
       "               '2012-10-24', '2012-10-25', '2012-10-26', '2012-10-29',\n",
       "               '2012-10-30', '2012-10-31', '2012-11-01', '2012-11-02',\n",
       "               '2012-11-05', '2012-11-06', '2012-11-07', '2012-11-08',\n",
       "               '2012-11-09', '2012-11-12', '2012-11-13', '2012-11-14',\n",
       "               '2012-11-15', '2012-11-16'],\n",
       "              dtype='datetime64[ns]', freq='B')"
      ]
     },
     "execution_count": 45,
     "metadata": {},
     "output_type": "execute_result"
    }
   ],
   "source": [
    "pd.date_range(start = \"2012-09-09\", periods = 50, freq = \"B\") "
   ]
  },
  {
   "cell_type": "code",
   "execution_count": 46,
   "metadata": {},
   "outputs": [
    {
     "data": {
      "text/plain": [
       "DatetimeIndex(['2012-09-12', '2012-09-19', '2012-09-26', '2012-10-03',\n",
       "               '2012-10-10', '2012-10-17', '2012-10-24', '2012-10-31',\n",
       "               '2012-11-07', '2012-11-14', '2012-11-21', '2012-11-28',\n",
       "               '2012-12-05', '2012-12-12', '2012-12-19', '2012-12-26',\n",
       "               '2013-01-02', '2013-01-09', '2013-01-16', '2013-01-23',\n",
       "               '2013-01-30', '2013-02-06', '2013-02-13', '2013-02-20',\n",
       "               '2013-02-27', '2013-03-06', '2013-03-13', '2013-03-20',\n",
       "               '2013-03-27', '2013-04-03', '2013-04-10', '2013-04-17',\n",
       "               '2013-04-24', '2013-05-01', '2013-05-08', '2013-05-15',\n",
       "               '2013-05-22', '2013-05-29', '2013-06-05', '2013-06-12',\n",
       "               '2013-06-19', '2013-06-26', '2013-07-03', '2013-07-10',\n",
       "               '2013-07-17', '2013-07-24', '2013-07-31', '2013-08-07',\n",
       "               '2013-08-14', '2013-08-21'],\n",
       "              dtype='datetime64[ns]', freq='W-WED')"
      ]
     },
     "execution_count": 46,
     "metadata": {},
     "output_type": "execute_result"
    }
   ],
   "source": [
    "pd.date_range(start = \"2012-09-09\", periods = 50, freq = \"W-WED\")"
   ]
  },
  {
   "cell_type": "markdown",
   "metadata": {},
   "source": [
    "periods = how many dates want to generate"
   ]
  },
  {
   "cell_type": "markdown",
   "metadata": {},
   "source": [
    "## Create Range of Dates with the `pd.date_range()` Method, Part 3"
   ]
  },
  {
   "cell_type": "code",
   "execution_count": 47,
   "metadata": {
    "scrolled": true
   },
   "outputs": [
    {
     "data": {
      "text/plain": [
       "DatetimeIndex(['1999-12-02 03:00:00', '1999-12-02 10:00:00',\n",
       "               '1999-12-02 17:00:00', '1999-12-03 00:00:00',\n",
       "               '1999-12-03 07:00:00', '1999-12-03 14:00:00',\n",
       "               '1999-12-03 21:00:00', '1999-12-04 04:00:00',\n",
       "               '1999-12-04 11:00:00', '1999-12-04 18:00:00',\n",
       "               '1999-12-05 01:00:00', '1999-12-05 08:00:00',\n",
       "               '1999-12-05 15:00:00', '1999-12-05 22:00:00',\n",
       "               '1999-12-06 05:00:00', '1999-12-06 12:00:00',\n",
       "               '1999-12-06 19:00:00', '1999-12-07 02:00:00',\n",
       "               '1999-12-07 09:00:00', '1999-12-07 16:00:00',\n",
       "               '1999-12-07 23:00:00', '1999-12-08 06:00:00',\n",
       "               '1999-12-08 13:00:00', '1999-12-08 20:00:00',\n",
       "               '1999-12-09 03:00:00', '1999-12-09 10:00:00',\n",
       "               '1999-12-09 17:00:00', '1999-12-10 00:00:00',\n",
       "               '1999-12-10 07:00:00', '1999-12-10 14:00:00',\n",
       "               '1999-12-10 21:00:00', '1999-12-11 04:00:00',\n",
       "               '1999-12-11 11:00:00', '1999-12-11 18:00:00',\n",
       "               '1999-12-12 01:00:00', '1999-12-12 08:00:00',\n",
       "               '1999-12-12 15:00:00', '1999-12-12 22:00:00',\n",
       "               '1999-12-13 05:00:00', '1999-12-13 12:00:00',\n",
       "               '1999-12-13 19:00:00', '1999-12-14 02:00:00',\n",
       "               '1999-12-14 09:00:00', '1999-12-14 16:00:00',\n",
       "               '1999-12-14 23:00:00', '1999-12-15 06:00:00',\n",
       "               '1999-12-15 13:00:00', '1999-12-15 20:00:00',\n",
       "               '1999-12-16 03:00:00', '1999-12-16 10:00:00',\n",
       "               '1999-12-16 17:00:00', '1999-12-17 00:00:00',\n",
       "               '1999-12-17 07:00:00', '1999-12-17 14:00:00',\n",
       "               '1999-12-17 21:00:00', '1999-12-18 04:00:00',\n",
       "               '1999-12-18 11:00:00', '1999-12-18 18:00:00',\n",
       "               '1999-12-19 01:00:00', '1999-12-19 08:00:00',\n",
       "               '1999-12-19 15:00:00', '1999-12-19 22:00:00',\n",
       "               '1999-12-20 05:00:00', '1999-12-20 12:00:00',\n",
       "               '1999-12-20 19:00:00', '1999-12-21 02:00:00',\n",
       "               '1999-12-21 09:00:00', '1999-12-21 16:00:00',\n",
       "               '1999-12-21 23:00:00', '1999-12-22 06:00:00',\n",
       "               '1999-12-22 13:00:00', '1999-12-22 20:00:00',\n",
       "               '1999-12-23 03:00:00', '1999-12-23 10:00:00',\n",
       "               '1999-12-23 17:00:00', '1999-12-24 00:00:00',\n",
       "               '1999-12-24 07:00:00', '1999-12-24 14:00:00',\n",
       "               '1999-12-24 21:00:00', '1999-12-25 04:00:00',\n",
       "               '1999-12-25 11:00:00', '1999-12-25 18:00:00',\n",
       "               '1999-12-26 01:00:00', '1999-12-26 08:00:00',\n",
       "               '1999-12-26 15:00:00', '1999-12-26 22:00:00',\n",
       "               '1999-12-27 05:00:00', '1999-12-27 12:00:00',\n",
       "               '1999-12-27 19:00:00', '1999-12-28 02:00:00',\n",
       "               '1999-12-28 09:00:00', '1999-12-28 16:00:00',\n",
       "               '1999-12-28 23:00:00', '1999-12-29 06:00:00',\n",
       "               '1999-12-29 13:00:00', '1999-12-29 20:00:00',\n",
       "               '1999-12-30 03:00:00', '1999-12-30 10:00:00',\n",
       "               '1999-12-30 17:00:00', '1999-12-31 00:00:00'],\n",
       "              dtype='datetime64[ns]', freq='7H')"
      ]
     },
     "execution_count": 47,
     "metadata": {},
     "output_type": "execute_result"
    }
   ],
   "source": [
    "pd.date_range(end = \"1999-12-31\", periods = 100, freq = \"7H\")"
   ]
  },
  {
   "cell_type": "markdown",
   "metadata": {},
   "source": [
    "## The `.dt` Accessor"
   ]
  },
  {
   "cell_type": "code",
   "execution_count": 2,
   "metadata": {},
   "outputs": [],
   "source": [
    "bunch_of_dates = pd.date_range(start = \"2000-01-01\", end = \"2010-12-31\", freq = \"24D\")"
   ]
  },
  {
   "cell_type": "code",
   "execution_count": 3,
   "metadata": {},
   "outputs": [
    {
     "data": {
      "text/plain": [
       "0   2000-01-01\n",
       "1   2000-01-25\n",
       "2   2000-02-18\n",
       "dtype: datetime64[ns]"
      ]
     },
     "execution_count": 3,
     "metadata": {},
     "output_type": "execute_result"
    }
   ],
   "source": [
    "s = pd.Series(bunch_of_dates)\n",
    "s.head(3)"
   ]
  },
  {
   "cell_type": "code",
   "execution_count": 4,
   "metadata": {},
   "outputs": [
    {
     "data": {
      "text/plain": [
       "5     2000-04-30\n",
       "57    2003-09-30\n",
       "71    2004-08-31\n",
       "90    2005-11-30\n",
       "123   2008-01-31\n",
       "161   2010-07-31\n",
       "dtype: datetime64[ns]"
      ]
     },
     "execution_count": 4,
     "metadata": {},
     "output_type": "execute_result"
    }
   ],
   "source": [
    "mask = s.dt.is_month_end\n",
    "s[mask]"
   ]
  },
  {
   "cell_type": "markdown",
   "metadata": {
    "collapsed": true
   },
   "source": [
    "## Import Financial Data Set with `pandas_datareader` Library"
   ]
  },
  {
   "cell_type": "code",
   "execution_count": 2,
   "metadata": {},
   "outputs": [],
   "source": [
    "import pandas as pd\n",
    "import datetime as dt\n",
    "from pandas_datareader import data"
   ]
  },
  {
   "cell_type": "code",
   "execution_count": 10,
   "metadata": {},
   "outputs": [
    {
     "data": {
      "text/html": [
       "<div>\n",
       "<style scoped>\n",
       "    .dataframe tbody tr th:only-of-type {\n",
       "        vertical-align: middle;\n",
       "    }\n",
       "\n",
       "    .dataframe tbody tr th {\n",
       "        vertical-align: top;\n",
       "    }\n",
       "\n",
       "    .dataframe thead th {\n",
       "        text-align: right;\n",
       "    }\n",
       "</style>\n",
       "<table border=\"1\" class=\"dataframe\">\n",
       "  <thead>\n",
       "    <tr style=\"text-align: right;\">\n",
       "      <th></th>\n",
       "      <th>High</th>\n",
       "      <th>Low</th>\n",
       "      <th>Open</th>\n",
       "      <th>Close</th>\n",
       "      <th>Volume</th>\n",
       "      <th>Adj Close</th>\n",
       "    </tr>\n",
       "    <tr>\n",
       "      <th>Date</th>\n",
       "      <th></th>\n",
       "      <th></th>\n",
       "      <th></th>\n",
       "      <th></th>\n",
       "      <th></th>\n",
       "      <th></th>\n",
       "    </tr>\n",
       "  </thead>\n",
       "  <tbody>\n",
       "    <tr>\n",
       "      <th>2015-07-06</th>\n",
       "      <td>39.750000</td>\n",
       "      <td>36.000000</td>\n",
       "      <td>38.000000</td>\n",
       "      <td>36.709999</td>\n",
       "      <td>5866600</td>\n",
       "      <td>36.709999</td>\n",
       "    </tr>\n",
       "    <tr>\n",
       "      <th>2015-07-07</th>\n",
       "      <td>37.810001</td>\n",
       "      <td>36.000000</td>\n",
       "      <td>37.720001</td>\n",
       "      <td>36.619999</td>\n",
       "      <td>7359000</td>\n",
       "      <td>36.619999</td>\n",
       "    </tr>\n",
       "    <tr>\n",
       "      <th>2015-07-08</th>\n",
       "      <td>36.360001</td>\n",
       "      <td>34.529999</td>\n",
       "      <td>36.340000</td>\n",
       "      <td>34.700001</td>\n",
       "      <td>5387700</td>\n",
       "      <td>34.700001</td>\n",
       "    </tr>\n",
       "    <tr>\n",
       "      <th>2015-07-09</th>\n",
       "      <td>35.520000</td>\n",
       "      <td>33.990002</td>\n",
       "      <td>35.099998</td>\n",
       "      <td>34.500000</td>\n",
       "      <td>3760100</td>\n",
       "      <td>34.500000</td>\n",
       "    </tr>\n",
       "    <tr>\n",
       "      <th>2015-07-10</th>\n",
       "      <td>35.189999</td>\n",
       "      <td>33.980000</td>\n",
       "      <td>34.660000</td>\n",
       "      <td>34.689999</td>\n",
       "      <td>4472800</td>\n",
       "      <td>34.689999</td>\n",
       "    </tr>\n",
       "  </tbody>\n",
       "</table>\n",
       "</div>"
      ],
      "text/plain": [
       "                 High        Low       Open      Close   Volume  Adj Close\n",
       "Date                                                                      \n",
       "2015-07-06  39.750000  36.000000  38.000000  36.709999  5866600  36.709999\n",
       "2015-07-07  37.810001  36.000000  37.720001  36.619999  7359000  36.619999\n",
       "2015-07-08  36.360001  34.529999  36.340000  34.700001  5387700  34.700001\n",
       "2015-07-09  35.520000  33.990002  35.099998  34.500000  3760100  34.500000\n",
       "2015-07-10  35.189999  33.980000  34.660000  34.689999  4472800  34.689999"
      ]
     },
     "execution_count": 10,
     "metadata": {},
     "output_type": "execute_result"
    }
   ],
   "source": [
    "company = \"PYPL\" # paypal stock symbol\n",
    "start = \"2010-01-01\"\n",
    "end = \"2018-12-31\"\n",
    "\n",
    "stocks = data.DataReader(name = company, data_source = \"yahoo\", start = start, end = end)\n",
    "stocks.head()"
   ]
  },
  {
   "cell_type": "code",
   "execution_count": 11,
   "metadata": {},
   "outputs": [
    {
     "data": {
      "text/plain": [
       "[DatetimeIndex(['2015-07-06', '2015-07-07', '2015-07-08', '2015-07-09',\n",
       "                '2015-07-10', '2015-07-13', '2015-07-14', '2015-07-15',\n",
       "                '2015-07-16', '2015-07-17',\n",
       "                ...\n",
       "                '2018-12-17', '2018-12-18', '2018-12-19', '2018-12-20',\n",
       "                '2018-12-21', '2018-12-24', '2018-12-26', '2018-12-27',\n",
       "                '2018-12-28', '2018-12-31'],\n",
       "               dtype='datetime64[ns]', name='Date', length=880, freq=None),\n",
       " Index(['High', 'Low', 'Open', 'Close', 'Volume', 'Adj Close'], dtype='object')]"
      ]
     },
     "execution_count": 11,
     "metadata": {},
     "output_type": "execute_result"
    }
   ],
   "source": [
    "stocks.values\n",
    "stocks.columns\n",
    "stocks.index[0]\n",
    "stocks.axes"
   ]
  },
  {
   "cell_type": "markdown",
   "metadata": {
    "collapsed": true
   },
   "source": [
    "## Selecting from a `DataFrame` with a `DateTimeIndex`"
   ]
  },
  {
   "cell_type": "code",
   "execution_count": 22,
   "metadata": {},
   "outputs": [
    {
     "data": {
      "text/html": [
       "<div>\n",
       "<style scoped>\n",
       "    .dataframe tbody tr th:only-of-type {\n",
       "        vertical-align: middle;\n",
       "    }\n",
       "\n",
       "    .dataframe tbody tr th {\n",
       "        vertical-align: top;\n",
       "    }\n",
       "\n",
       "    .dataframe thead th {\n",
       "        text-align: right;\n",
       "    }\n",
       "</style>\n",
       "<table border=\"1\" class=\"dataframe\">\n",
       "  <thead>\n",
       "    <tr style=\"text-align: right;\">\n",
       "      <th></th>\n",
       "      <th>High</th>\n",
       "      <th>Low</th>\n",
       "      <th>Open</th>\n",
       "      <th>Close</th>\n",
       "      <th>Volume</th>\n",
       "      <th>Adj Close</th>\n",
       "    </tr>\n",
       "    <tr>\n",
       "      <th>Date</th>\n",
       "      <th></th>\n",
       "      <th></th>\n",
       "      <th></th>\n",
       "      <th></th>\n",
       "      <th></th>\n",
       "      <th></th>\n",
       "    </tr>\n",
       "  </thead>\n",
       "  <tbody>\n",
       "    <tr>\n",
       "      <th>2015-07-06</th>\n",
       "      <td>39.750000</td>\n",
       "      <td>36.000000</td>\n",
       "      <td>38.000000</td>\n",
       "      <td>36.709999</td>\n",
       "      <td>5866600</td>\n",
       "      <td>36.709999</td>\n",
       "    </tr>\n",
       "    <tr>\n",
       "      <th>2015-07-07</th>\n",
       "      <td>37.810001</td>\n",
       "      <td>36.000000</td>\n",
       "      <td>37.720001</td>\n",
       "      <td>36.619999</td>\n",
       "      <td>7359000</td>\n",
       "      <td>36.619999</td>\n",
       "    </tr>\n",
       "    <tr>\n",
       "      <th>2015-07-08</th>\n",
       "      <td>36.360001</td>\n",
       "      <td>34.529999</td>\n",
       "      <td>36.340000</td>\n",
       "      <td>34.700001</td>\n",
       "      <td>5387700</td>\n",
       "      <td>34.700001</td>\n",
       "    </tr>\n",
       "    <tr>\n",
       "      <th>2015-07-09</th>\n",
       "      <td>35.520000</td>\n",
       "      <td>33.990002</td>\n",
       "      <td>35.099998</td>\n",
       "      <td>34.500000</td>\n",
       "      <td>3760100</td>\n",
       "      <td>34.500000</td>\n",
       "    </tr>\n",
       "    <tr>\n",
       "      <th>2015-07-10</th>\n",
       "      <td>35.189999</td>\n",
       "      <td>33.980000</td>\n",
       "      <td>34.660000</td>\n",
       "      <td>34.689999</td>\n",
       "      <td>4472800</td>\n",
       "      <td>34.689999</td>\n",
       "    </tr>\n",
       "  </tbody>\n",
       "</table>\n",
       "</div>"
      ],
      "text/plain": [
       "                 High        Low       Open      Close   Volume  Adj Close\n",
       "Date                                                                      \n",
       "2015-07-06  39.750000  36.000000  38.000000  36.709999  5866600  36.709999\n",
       "2015-07-07  37.810001  36.000000  37.720001  36.619999  7359000  36.619999\n",
       "2015-07-08  36.360001  34.529999  36.340000  34.700001  5387700  34.700001\n",
       "2015-07-09  35.520000  33.990002  35.099998  34.500000  3760100  34.500000\n",
       "2015-07-10  35.189999  33.980000  34.660000  34.689999  4472800  34.689999"
      ]
     },
     "execution_count": 22,
     "metadata": {},
     "output_type": "execute_result"
    }
   ],
   "source": [
    "stocks = data.DataReader(name = company, data_source = \"yahoo\", start = start, end = end)\n",
    "stocks.head()"
   ]
  },
  {
   "cell_type": "code",
   "execution_count": 18,
   "metadata": {},
   "outputs": [
    {
     "data": {
      "text/plain": [
       "High         3.636000e+01\n",
       "Low          3.453000e+01\n",
       "Open         3.634000e+01\n",
       "Close        3.470000e+01\n",
       "Volume       5.387700e+06\n",
       "Adj Close    3.470000e+01\n",
       "Name: 2015-07-08 00:00:00, dtype: float64"
      ]
     },
     "execution_count": 18,
     "metadata": {},
     "output_type": "execute_result"
    }
   ],
   "source": [
    "stocks.loc[\"2015-07-08\"]"
   ]
  },
  {
   "cell_type": "code",
   "execution_count": 17,
   "metadata": {},
   "outputs": [
    {
     "data": {
      "text/plain": [
       "High         3.395000e+01\n",
       "Low          3.267000e+01\n",
       "Open         3.372000e+01\n",
       "Close        3.380000e+01\n",
       "Volume       1.187490e+07\n",
       "Adj Close    3.380000e+01\n",
       "Name: 2015-09-15 00:00:00, dtype: float64"
      ]
     },
     "execution_count": 17,
     "metadata": {},
     "output_type": "execute_result"
    }
   ],
   "source": [
    "stocks.iloc[50]"
   ]
  },
  {
   "cell_type": "code",
   "execution_count": 19,
   "metadata": {
    "collapsed": true
   },
   "outputs": [
    {
     "ename": "KeyError",
     "evalue": "'the label [2016-01-01] is not in the [index]'",
     "output_type": "error",
     "traceback": [
      "\u001b[1;31m---------------------------------------------------------------------------\u001b[0m",
      "\u001b[1;31mKeyError\u001b[0m                                  Traceback (most recent call last)",
      "\u001b[1;32mC:\\ProgramData\\Anaconda3\\lib\\site-packages\\pandas\\core\\indexing.py\u001b[0m in \u001b[0;36m_validate_key\u001b[1;34m(self, key, axis)\u001b[0m\n\u001b[0;32m   1789\u001b[0m                 \u001b[1;32mif\u001b[0m \u001b[1;32mnot\u001b[0m \u001b[0max\u001b[0m\u001b[1;33m.\u001b[0m\u001b[0mcontains\u001b[0m\u001b[1;33m(\u001b[0m\u001b[0mkey\u001b[0m\u001b[1;33m)\u001b[0m\u001b[1;33m:\u001b[0m\u001b[1;33m\u001b[0m\u001b[0m\n\u001b[1;32m-> 1790\u001b[1;33m                     \u001b[0merror\u001b[0m\u001b[1;33m(\u001b[0m\u001b[1;33m)\u001b[0m\u001b[1;33m\u001b[0m\u001b[0m\n\u001b[0m\u001b[0;32m   1791\u001b[0m             \u001b[1;32mexcept\u001b[0m \u001b[0mTypeError\u001b[0m \u001b[1;32mas\u001b[0m \u001b[0me\u001b[0m\u001b[1;33m:\u001b[0m\u001b[1;33m\u001b[0m\u001b[0m\n",
      "\u001b[1;32mC:\\ProgramData\\Anaconda3\\lib\\site-packages\\pandas\\core\\indexing.py\u001b[0m in \u001b[0;36merror\u001b[1;34m()\u001b[0m\n\u001b[0;32m   1784\u001b[0m                                .format(key=key,\n\u001b[1;32m-> 1785\u001b[1;33m                                        axis=self.obj._get_axis_name(axis)))\n\u001b[0m\u001b[0;32m   1786\u001b[0m \u001b[1;33m\u001b[0m\u001b[0m\n",
      "\u001b[1;31mKeyError\u001b[0m: 'the label [2016-01-01] is not in the [index]'",
      "\nDuring handling of the above exception, another exception occurred:\n",
      "\u001b[1;31mKeyError\u001b[0m                                  Traceback (most recent call last)",
      "\u001b[1;32m<ipython-input-19-05a4ba8763ec>\u001b[0m in \u001b[0;36m<module>\u001b[1;34m()\u001b[0m\n\u001b[1;32m----> 1\u001b[1;33m \u001b[0mstocks\u001b[0m\u001b[1;33m.\u001b[0m\u001b[0mloc\u001b[0m\u001b[1;33m[\u001b[0m\u001b[1;34m\"2016-01-01\"\u001b[0m\u001b[1;33m]\u001b[0m\u001b[1;33m\u001b[0m\u001b[0m\n\u001b[0m",
      "\u001b[1;32mC:\\ProgramData\\Anaconda3\\lib\\site-packages\\pandas\\core\\indexing.py\u001b[0m in \u001b[0;36m__getitem__\u001b[1;34m(self, key)\u001b[0m\n\u001b[0;32m   1476\u001b[0m \u001b[1;33m\u001b[0m\u001b[0m\n\u001b[0;32m   1477\u001b[0m             \u001b[0mmaybe_callable\u001b[0m \u001b[1;33m=\u001b[0m \u001b[0mcom\u001b[0m\u001b[1;33m.\u001b[0m\u001b[0m_apply_if_callable\u001b[0m\u001b[1;33m(\u001b[0m\u001b[0mkey\u001b[0m\u001b[1;33m,\u001b[0m \u001b[0mself\u001b[0m\u001b[1;33m.\u001b[0m\u001b[0mobj\u001b[0m\u001b[1;33m)\u001b[0m\u001b[1;33m\u001b[0m\u001b[0m\n\u001b[1;32m-> 1478\u001b[1;33m             \u001b[1;32mreturn\u001b[0m \u001b[0mself\u001b[0m\u001b[1;33m.\u001b[0m\u001b[0m_getitem_axis\u001b[0m\u001b[1;33m(\u001b[0m\u001b[0mmaybe_callable\u001b[0m\u001b[1;33m,\u001b[0m \u001b[0maxis\u001b[0m\u001b[1;33m=\u001b[0m\u001b[0maxis\u001b[0m\u001b[1;33m)\u001b[0m\u001b[1;33m\u001b[0m\u001b[0m\n\u001b[0m\u001b[0;32m   1479\u001b[0m \u001b[1;33m\u001b[0m\u001b[0m\n\u001b[0;32m   1480\u001b[0m     \u001b[1;32mdef\u001b[0m \u001b[0m_is_scalar_access\u001b[0m\u001b[1;33m(\u001b[0m\u001b[0mself\u001b[0m\u001b[1;33m,\u001b[0m \u001b[0mkey\u001b[0m\u001b[1;33m)\u001b[0m\u001b[1;33m:\u001b[0m\u001b[1;33m\u001b[0m\u001b[0m\n",
      "\u001b[1;32mC:\\ProgramData\\Anaconda3\\lib\\site-packages\\pandas\\core\\indexing.py\u001b[0m in \u001b[0;36m_getitem_axis\u001b[1;34m(self, key, axis)\u001b[0m\n\u001b[0;32m   1909\u001b[0m \u001b[1;33m\u001b[0m\u001b[0m\n\u001b[0;32m   1910\u001b[0m         \u001b[1;31m# fall thru to straight lookup\u001b[0m\u001b[1;33m\u001b[0m\u001b[1;33m\u001b[0m\u001b[0m\n\u001b[1;32m-> 1911\u001b[1;33m         \u001b[0mself\u001b[0m\u001b[1;33m.\u001b[0m\u001b[0m_validate_key\u001b[0m\u001b[1;33m(\u001b[0m\u001b[0mkey\u001b[0m\u001b[1;33m,\u001b[0m \u001b[0maxis\u001b[0m\u001b[1;33m)\u001b[0m\u001b[1;33m\u001b[0m\u001b[0m\n\u001b[0m\u001b[0;32m   1912\u001b[0m         \u001b[1;32mreturn\u001b[0m \u001b[0mself\u001b[0m\u001b[1;33m.\u001b[0m\u001b[0m_get_label\u001b[0m\u001b[1;33m(\u001b[0m\u001b[0mkey\u001b[0m\u001b[1;33m,\u001b[0m \u001b[0maxis\u001b[0m\u001b[1;33m=\u001b[0m\u001b[0maxis\u001b[0m\u001b[1;33m)\u001b[0m\u001b[1;33m\u001b[0m\u001b[0m\n\u001b[0;32m   1913\u001b[0m \u001b[1;33m\u001b[0m\u001b[0m\n",
      "\u001b[1;32mC:\\ProgramData\\Anaconda3\\lib\\site-packages\\pandas\\core\\indexing.py\u001b[0m in \u001b[0;36m_validate_key\u001b[1;34m(self, key, axis)\u001b[0m\n\u001b[0;32m   1796\u001b[0m                 \u001b[1;32mraise\u001b[0m\u001b[1;33m\u001b[0m\u001b[0m\n\u001b[0;32m   1797\u001b[0m             \u001b[1;32mexcept\u001b[0m\u001b[1;33m:\u001b[0m\u001b[1;33m\u001b[0m\u001b[0m\n\u001b[1;32m-> 1798\u001b[1;33m                 \u001b[0merror\u001b[0m\u001b[1;33m(\u001b[0m\u001b[1;33m)\u001b[0m\u001b[1;33m\u001b[0m\u001b[0m\n\u001b[0m\u001b[0;32m   1799\u001b[0m \u001b[1;33m\u001b[0m\u001b[0m\n\u001b[0;32m   1800\u001b[0m     \u001b[1;32mdef\u001b[0m \u001b[0m_is_scalar_access\u001b[0m\u001b[1;33m(\u001b[0m\u001b[0mself\u001b[0m\u001b[1;33m,\u001b[0m \u001b[0mkey\u001b[0m\u001b[1;33m)\u001b[0m\u001b[1;33m:\u001b[0m\u001b[1;33m\u001b[0m\u001b[0m\n",
      "\u001b[1;32mC:\\ProgramData\\Anaconda3\\lib\\site-packages\\pandas\\core\\indexing.py\u001b[0m in \u001b[0;36merror\u001b[1;34m()\u001b[0m\n\u001b[0;32m   1783\u001b[0m                 raise KeyError(u\"the label [{key}] is not in the [{axis}]\"\n\u001b[0;32m   1784\u001b[0m                                .format(key=key,\n\u001b[1;32m-> 1785\u001b[1;33m                                        axis=self.obj._get_axis_name(axis)))\n\u001b[0m\u001b[0;32m   1786\u001b[0m \u001b[1;33m\u001b[0m\u001b[0m\n\u001b[0;32m   1787\u001b[0m             \u001b[1;32mtry\u001b[0m\u001b[1;33m:\u001b[0m\u001b[1;33m\u001b[0m\u001b[0m\n",
      "\u001b[1;31mKeyError\u001b[0m: 'the label [2016-01-01] is not in the [index]'"
     ]
    }
   ],
   "source": [
    "stocks.loc[\"2016-01-01\"] # doesnot exits"
   ]
  },
  {
   "cell_type": "code",
   "execution_count": 23,
   "metadata": {
    "scrolled": true
   },
   "outputs": [
    {
     "data": {
      "text/html": [
       "<div>\n",
       "<style scoped>\n",
       "    .dataframe tbody tr th:only-of-type {\n",
       "        vertical-align: middle;\n",
       "    }\n",
       "\n",
       "    .dataframe tbody tr th {\n",
       "        vertical-align: top;\n",
       "    }\n",
       "\n",
       "    .dataframe thead th {\n",
       "        text-align: right;\n",
       "    }\n",
       "</style>\n",
       "<table border=\"1\" class=\"dataframe\">\n",
       "  <thead>\n",
       "    <tr style=\"text-align: right;\">\n",
       "      <th></th>\n",
       "      <th>High</th>\n",
       "      <th>Low</th>\n",
       "      <th>Open</th>\n",
       "      <th>Close</th>\n",
       "      <th>Volume</th>\n",
       "      <th>Adj Close</th>\n",
       "    </tr>\n",
       "    <tr>\n",
       "      <th>Date</th>\n",
       "      <th></th>\n",
       "      <th></th>\n",
       "      <th></th>\n",
       "      <th></th>\n",
       "      <th></th>\n",
       "      <th></th>\n",
       "    </tr>\n",
       "  </thead>\n",
       "  <tbody>\n",
       "    <tr>\n",
       "      <th>2015-07-08</th>\n",
       "      <td>36.360001</td>\n",
       "      <td>34.529999</td>\n",
       "      <td>36.340000</td>\n",
       "      <td>34.700001</td>\n",
       "      <td>5387700</td>\n",
       "      <td>34.700001</td>\n",
       "    </tr>\n",
       "    <tr>\n",
       "      <th>2015-07-09</th>\n",
       "      <td>35.520000</td>\n",
       "      <td>33.990002</td>\n",
       "      <td>35.099998</td>\n",
       "      <td>34.500000</td>\n",
       "      <td>3760100</td>\n",
       "      <td>34.500000</td>\n",
       "    </tr>\n",
       "    <tr>\n",
       "      <th>2015-07-10</th>\n",
       "      <td>35.189999</td>\n",
       "      <td>33.980000</td>\n",
       "      <td>34.660000</td>\n",
       "      <td>34.689999</td>\n",
       "      <td>4472800</td>\n",
       "      <td>34.689999</td>\n",
       "    </tr>\n",
       "    <tr>\n",
       "      <th>2015-07-13</th>\n",
       "      <td>37.500000</td>\n",
       "      <td>35.500000</td>\n",
       "      <td>35.590000</td>\n",
       "      <td>36.779999</td>\n",
       "      <td>7626000</td>\n",
       "      <td>36.779999</td>\n",
       "    </tr>\n",
       "    <tr>\n",
       "      <th>2015-07-14</th>\n",
       "      <td>37.740002</td>\n",
       "      <td>36.599998</td>\n",
       "      <td>36.990002</td>\n",
       "      <td>36.930000</td>\n",
       "      <td>4653300</td>\n",
       "      <td>36.930000</td>\n",
       "    </tr>\n",
       "    <tr>\n",
       "      <th>2015-07-15</th>\n",
       "      <td>38.200001</td>\n",
       "      <td>37.029999</td>\n",
       "      <td>37.980000</td>\n",
       "      <td>37.509998</td>\n",
       "      <td>13072800</td>\n",
       "      <td>37.509998</td>\n",
       "    </tr>\n",
       "    <tr>\n",
       "      <th>2015-07-16</th>\n",
       "      <td>39.970001</td>\n",
       "      <td>38.080002</td>\n",
       "      <td>38.820000</td>\n",
       "      <td>38.630001</td>\n",
       "      <td>21348500</td>\n",
       "      <td>38.630001</td>\n",
       "    </tr>\n",
       "    <tr>\n",
       "      <th>2015-07-17</th>\n",
       "      <td>40.200001</td>\n",
       "      <td>38.180000</td>\n",
       "      <td>39.419998</td>\n",
       "      <td>38.389999</td>\n",
       "      <td>45720200</td>\n",
       "      <td>38.389999</td>\n",
       "    </tr>\n",
       "    <tr>\n",
       "      <th>2015-07-20</th>\n",
       "      <td>42.549999</td>\n",
       "      <td>39.799999</td>\n",
       "      <td>41.459999</td>\n",
       "      <td>40.470001</td>\n",
       "      <td>52286500</td>\n",
       "      <td>40.470001</td>\n",
       "    </tr>\n",
       "    <tr>\n",
       "      <th>2015-07-21</th>\n",
       "      <td>41.110001</td>\n",
       "      <td>39.119999</td>\n",
       "      <td>41.080002</td>\n",
       "      <td>39.349998</td>\n",
       "      <td>32954600</td>\n",
       "      <td>39.349998</td>\n",
       "    </tr>\n",
       "    <tr>\n",
       "      <th>2015-07-22</th>\n",
       "      <td>39.720001</td>\n",
       "      <td>38.099998</td>\n",
       "      <td>39.349998</td>\n",
       "      <td>38.389999</td>\n",
       "      <td>25363900</td>\n",
       "      <td>38.389999</td>\n",
       "    </tr>\n",
       "    <tr>\n",
       "      <th>2015-07-23</th>\n",
       "      <td>38.750000</td>\n",
       "      <td>36.930000</td>\n",
       "      <td>38.740002</td>\n",
       "      <td>37.009998</td>\n",
       "      <td>19250200</td>\n",
       "      <td>37.009998</td>\n",
       "    </tr>\n",
       "    <tr>\n",
       "      <th>2015-07-24</th>\n",
       "      <td>38.000000</td>\n",
       "      <td>36.910000</td>\n",
       "      <td>37.709999</td>\n",
       "      <td>37.000000</td>\n",
       "      <td>14274300</td>\n",
       "      <td>37.000000</td>\n",
       "    </tr>\n",
       "    <tr>\n",
       "      <th>2015-07-27</th>\n",
       "      <td>37.380001</td>\n",
       "      <td>36.220001</td>\n",
       "      <td>36.779999</td>\n",
       "      <td>36.389999</td>\n",
       "      <td>16179900</td>\n",
       "      <td>36.389999</td>\n",
       "    </tr>\n",
       "    <tr>\n",
       "      <th>2015-07-28</th>\n",
       "      <td>38.000000</td>\n",
       "      <td>36.830002</td>\n",
       "      <td>37.189999</td>\n",
       "      <td>37.599998</td>\n",
       "      <td>18986000</td>\n",
       "      <td>37.599998</td>\n",
       "    </tr>\n",
       "    <tr>\n",
       "      <th>2015-07-29</th>\n",
       "      <td>38.099998</td>\n",
       "      <td>37.619999</td>\n",
       "      <td>38.029999</td>\n",
       "      <td>37.950001</td>\n",
       "      <td>11788400</td>\n",
       "      <td>37.950001</td>\n",
       "    </tr>\n",
       "    <tr>\n",
       "      <th>2015-07-30</th>\n",
       "      <td>39.009998</td>\n",
       "      <td>37.715000</td>\n",
       "      <td>38.040001</td>\n",
       "      <td>38.450001</td>\n",
       "      <td>13845100</td>\n",
       "      <td>38.450001</td>\n",
       "    </tr>\n",
       "    <tr>\n",
       "      <th>2015-07-31</th>\n",
       "      <td>39.200001</td>\n",
       "      <td>38.220001</td>\n",
       "      <td>39.139999</td>\n",
       "      <td>38.700001</td>\n",
       "      <td>12480600</td>\n",
       "      <td>38.700001</td>\n",
       "    </tr>\n",
       "    <tr>\n",
       "      <th>2015-08-03</th>\n",
       "      <td>39.880001</td>\n",
       "      <td>38.900002</td>\n",
       "      <td>39.250000</td>\n",
       "      <td>39.389999</td>\n",
       "      <td>15126600</td>\n",
       "      <td>39.389999</td>\n",
       "    </tr>\n",
       "    <tr>\n",
       "      <th>2015-08-04</th>\n",
       "      <td>39.910000</td>\n",
       "      <td>38.430000</td>\n",
       "      <td>39.910000</td>\n",
       "      <td>38.950001</td>\n",
       "      <td>10992200</td>\n",
       "      <td>38.950001</td>\n",
       "    </tr>\n",
       "    <tr>\n",
       "      <th>2015-08-05</th>\n",
       "      <td>39.880001</td>\n",
       "      <td>39.169998</td>\n",
       "      <td>39.700001</td>\n",
       "      <td>39.270000</td>\n",
       "      <td>9463100</td>\n",
       "      <td>39.270000</td>\n",
       "    </tr>\n",
       "    <tr>\n",
       "      <th>2015-08-06</th>\n",
       "      <td>39.740002</td>\n",
       "      <td>38.549999</td>\n",
       "      <td>39.630001</td>\n",
       "      <td>38.849998</td>\n",
       "      <td>7324100</td>\n",
       "      <td>38.849998</td>\n",
       "    </tr>\n",
       "    <tr>\n",
       "      <th>2015-08-07</th>\n",
       "      <td>39.230000</td>\n",
       "      <td>38.599998</td>\n",
       "      <td>39.040001</td>\n",
       "      <td>39.130001</td>\n",
       "      <td>8331300</td>\n",
       "      <td>39.130001</td>\n",
       "    </tr>\n",
       "    <tr>\n",
       "      <th>2015-08-10</th>\n",
       "      <td>39.689999</td>\n",
       "      <td>38.770000</td>\n",
       "      <td>39.430000</td>\n",
       "      <td>39.049999</td>\n",
       "      <td>7998900</td>\n",
       "      <td>39.049999</td>\n",
       "    </tr>\n",
       "    <tr>\n",
       "      <th>2015-08-11</th>\n",
       "      <td>39.279999</td>\n",
       "      <td>38.720001</td>\n",
       "      <td>38.930000</td>\n",
       "      <td>38.849998</td>\n",
       "      <td>8184000</td>\n",
       "      <td>38.849998</td>\n",
       "    </tr>\n",
       "    <tr>\n",
       "      <th>2015-08-12</th>\n",
       "      <td>38.580002</td>\n",
       "      <td>37.009998</td>\n",
       "      <td>38.549999</td>\n",
       "      <td>38.189999</td>\n",
       "      <td>21350600</td>\n",
       "      <td>38.189999</td>\n",
       "    </tr>\n",
       "    <tr>\n",
       "      <th>2015-08-13</th>\n",
       "      <td>38.490002</td>\n",
       "      <td>37.439999</td>\n",
       "      <td>38.400002</td>\n",
       "      <td>37.619999</td>\n",
       "      <td>7863500</td>\n",
       "      <td>37.619999</td>\n",
       "    </tr>\n",
       "    <tr>\n",
       "      <th>2015-08-14</th>\n",
       "      <td>38.180000</td>\n",
       "      <td>37.380001</td>\n",
       "      <td>37.490002</td>\n",
       "      <td>38.139999</td>\n",
       "      <td>6271100</td>\n",
       "      <td>38.139999</td>\n",
       "    </tr>\n",
       "    <tr>\n",
       "      <th>2015-08-17</th>\n",
       "      <td>38.750000</td>\n",
       "      <td>37.700001</td>\n",
       "      <td>38.299999</td>\n",
       "      <td>38.730000</td>\n",
       "      <td>4931700</td>\n",
       "      <td>38.730000</td>\n",
       "    </tr>\n",
       "    <tr>\n",
       "      <th>2015-08-18</th>\n",
       "      <td>39.000000</td>\n",
       "      <td>37.869999</td>\n",
       "      <td>39.000000</td>\n",
       "      <td>37.990002</td>\n",
       "      <td>4678800</td>\n",
       "      <td>37.990002</td>\n",
       "    </tr>\n",
       "    <tr>\n",
       "      <th>...</th>\n",
       "      <td>...</td>\n",
       "      <td>...</td>\n",
       "      <td>...</td>\n",
       "      <td>...</td>\n",
       "      <td>...</td>\n",
       "      <td>...</td>\n",
       "    </tr>\n",
       "    <tr>\n",
       "      <th>2018-08-24</th>\n",
       "      <td>90.129997</td>\n",
       "      <td>87.949997</td>\n",
       "      <td>87.949997</td>\n",
       "      <td>90.099998</td>\n",
       "      <td>7403900</td>\n",
       "      <td>90.099998</td>\n",
       "    </tr>\n",
       "    <tr>\n",
       "      <th>2018-08-27</th>\n",
       "      <td>91.320000</td>\n",
       "      <td>89.779999</td>\n",
       "      <td>90.680000</td>\n",
       "      <td>89.970001</td>\n",
       "      <td>5466700</td>\n",
       "      <td>89.970001</td>\n",
       "    </tr>\n",
       "    <tr>\n",
       "      <th>2018-08-28</th>\n",
       "      <td>90.849998</td>\n",
       "      <td>89.680000</td>\n",
       "      <td>90.099998</td>\n",
       "      <td>90.610001</td>\n",
       "      <td>4643800</td>\n",
       "      <td>90.610001</td>\n",
       "    </tr>\n",
       "    <tr>\n",
       "      <th>2018-08-29</th>\n",
       "      <td>92.940002</td>\n",
       "      <td>90.779999</td>\n",
       "      <td>90.779999</td>\n",
       "      <td>92.620003</td>\n",
       "      <td>7841800</td>\n",
       "      <td>92.620003</td>\n",
       "    </tr>\n",
       "    <tr>\n",
       "      <th>2018-08-30</th>\n",
       "      <td>93.010002</td>\n",
       "      <td>91.709999</td>\n",
       "      <td>92.290001</td>\n",
       "      <td>92.089996</td>\n",
       "      <td>7146600</td>\n",
       "      <td>92.089996</td>\n",
       "    </tr>\n",
       "    <tr>\n",
       "      <th>2018-08-31</th>\n",
       "      <td>92.739998</td>\n",
       "      <td>91.800003</td>\n",
       "      <td>91.839996</td>\n",
       "      <td>92.330002</td>\n",
       "      <td>4874400</td>\n",
       "      <td>92.330002</td>\n",
       "    </tr>\n",
       "    <tr>\n",
       "      <th>2018-09-04</th>\n",
       "      <td>93.440002</td>\n",
       "      <td>91.620003</td>\n",
       "      <td>91.940002</td>\n",
       "      <td>93.070000</td>\n",
       "      <td>6466700</td>\n",
       "      <td>93.070000</td>\n",
       "    </tr>\n",
       "    <tr>\n",
       "      <th>2018-09-05</th>\n",
       "      <td>93.000000</td>\n",
       "      <td>88.699997</td>\n",
       "      <td>92.980003</td>\n",
       "      <td>89.050003</td>\n",
       "      <td>10202200</td>\n",
       "      <td>89.050003</td>\n",
       "    </tr>\n",
       "    <tr>\n",
       "      <th>2018-09-06</th>\n",
       "      <td>89.555000</td>\n",
       "      <td>88.059998</td>\n",
       "      <td>89.180000</td>\n",
       "      <td>89.000000</td>\n",
       "      <td>6840300</td>\n",
       "      <td>89.000000</td>\n",
       "    </tr>\n",
       "    <tr>\n",
       "      <th>2018-09-07</th>\n",
       "      <td>89.680000</td>\n",
       "      <td>87.389999</td>\n",
       "      <td>88.129997</td>\n",
       "      <td>88.820000</td>\n",
       "      <td>5679500</td>\n",
       "      <td>88.820000</td>\n",
       "    </tr>\n",
       "    <tr>\n",
       "      <th>2018-09-10</th>\n",
       "      <td>89.989998</td>\n",
       "      <td>88.559998</td>\n",
       "      <td>89.430000</td>\n",
       "      <td>89.800003</td>\n",
       "      <td>5466000</td>\n",
       "      <td>89.800003</td>\n",
       "    </tr>\n",
       "    <tr>\n",
       "      <th>2018-09-11</th>\n",
       "      <td>91.709999</td>\n",
       "      <td>89.035004</td>\n",
       "      <td>89.830002</td>\n",
       "      <td>91.430000</td>\n",
       "      <td>7321900</td>\n",
       "      <td>91.430000</td>\n",
       "    </tr>\n",
       "    <tr>\n",
       "      <th>2018-09-12</th>\n",
       "      <td>92.459999</td>\n",
       "      <td>90.209999</td>\n",
       "      <td>91.529999</td>\n",
       "      <td>92.400002</td>\n",
       "      <td>7213500</td>\n",
       "      <td>92.400002</td>\n",
       "    </tr>\n",
       "    <tr>\n",
       "      <th>2018-09-13</th>\n",
       "      <td>93.699997</td>\n",
       "      <td>92.059998</td>\n",
       "      <td>92.599998</td>\n",
       "      <td>92.190002</td>\n",
       "      <td>8308300</td>\n",
       "      <td>92.190002</td>\n",
       "    </tr>\n",
       "    <tr>\n",
       "      <th>2018-09-14</th>\n",
       "      <td>92.680000</td>\n",
       "      <td>90.680000</td>\n",
       "      <td>92.250000</td>\n",
       "      <td>90.779999</td>\n",
       "      <td>9342800</td>\n",
       "      <td>90.779999</td>\n",
       "    </tr>\n",
       "    <tr>\n",
       "      <th>2018-09-17</th>\n",
       "      <td>91.300003</td>\n",
       "      <td>88.510002</td>\n",
       "      <td>90.660004</td>\n",
       "      <td>88.680000</td>\n",
       "      <td>9293800</td>\n",
       "      <td>88.680000</td>\n",
       "    </tr>\n",
       "    <tr>\n",
       "      <th>2018-09-18</th>\n",
       "      <td>90.089996</td>\n",
       "      <td>88.709999</td>\n",
       "      <td>88.709999</td>\n",
       "      <td>89.720001</td>\n",
       "      <td>5820700</td>\n",
       "      <td>89.720001</td>\n",
       "    </tr>\n",
       "    <tr>\n",
       "      <th>2018-09-19</th>\n",
       "      <td>90.739998</td>\n",
       "      <td>88.237999</td>\n",
       "      <td>90.099998</td>\n",
       "      <td>89.309998</td>\n",
       "      <td>5495100</td>\n",
       "      <td>89.309998</td>\n",
       "    </tr>\n",
       "    <tr>\n",
       "      <th>2018-09-20</th>\n",
       "      <td>90.779999</td>\n",
       "      <td>89.184998</td>\n",
       "      <td>89.839996</td>\n",
       "      <td>90.599998</td>\n",
       "      <td>6561700</td>\n",
       "      <td>90.599998</td>\n",
       "    </tr>\n",
       "    <tr>\n",
       "      <th>2018-09-21</th>\n",
       "      <td>92.000000</td>\n",
       "      <td>90.419998</td>\n",
       "      <td>91.050003</td>\n",
       "      <td>90.620003</td>\n",
       "      <td>25379400</td>\n",
       "      <td>90.620003</td>\n",
       "    </tr>\n",
       "    <tr>\n",
       "      <th>2018-09-24</th>\n",
       "      <td>90.260002</td>\n",
       "      <td>88.260002</td>\n",
       "      <td>89.949997</td>\n",
       "      <td>89.620003</td>\n",
       "      <td>8303100</td>\n",
       "      <td>89.620003</td>\n",
       "    </tr>\n",
       "    <tr>\n",
       "      <th>2018-09-25</th>\n",
       "      <td>90.379997</td>\n",
       "      <td>89.275002</td>\n",
       "      <td>89.620003</td>\n",
       "      <td>90.040001</td>\n",
       "      <td>5953400</td>\n",
       "      <td>90.040001</td>\n",
       "    </tr>\n",
       "    <tr>\n",
       "      <th>2018-09-26</th>\n",
       "      <td>90.930000</td>\n",
       "      <td>89.699997</td>\n",
       "      <td>90.339996</td>\n",
       "      <td>89.849998</td>\n",
       "      <td>5936200</td>\n",
       "      <td>89.849998</td>\n",
       "    </tr>\n",
       "    <tr>\n",
       "      <th>2018-09-27</th>\n",
       "      <td>90.699997</td>\n",
       "      <td>88.860001</td>\n",
       "      <td>90.610001</td>\n",
       "      <td>88.989998</td>\n",
       "      <td>6996600</td>\n",
       "      <td>88.989998</td>\n",
       "    </tr>\n",
       "    <tr>\n",
       "      <th>2018-09-28</th>\n",
       "      <td>89.044998</td>\n",
       "      <td>87.599998</td>\n",
       "      <td>88.790001</td>\n",
       "      <td>87.839996</td>\n",
       "      <td>7920600</td>\n",
       "      <td>87.839996</td>\n",
       "    </tr>\n",
       "    <tr>\n",
       "      <th>2018-10-01</th>\n",
       "      <td>88.800003</td>\n",
       "      <td>87.400002</td>\n",
       "      <td>88.129997</td>\n",
       "      <td>87.550003</td>\n",
       "      <td>9260600</td>\n",
       "      <td>87.550003</td>\n",
       "    </tr>\n",
       "    <tr>\n",
       "      <th>2018-10-02</th>\n",
       "      <td>87.349998</td>\n",
       "      <td>85.830002</td>\n",
       "      <td>87.269997</td>\n",
       "      <td>86.680000</td>\n",
       "      <td>6488200</td>\n",
       "      <td>86.680000</td>\n",
       "    </tr>\n",
       "    <tr>\n",
       "      <th>2018-10-03</th>\n",
       "      <td>87.949997</td>\n",
       "      <td>86.370003</td>\n",
       "      <td>87.400002</td>\n",
       "      <td>87.150002</td>\n",
       "      <td>6625000</td>\n",
       "      <td>87.150002</td>\n",
       "    </tr>\n",
       "    <tr>\n",
       "      <th>2018-10-04</th>\n",
       "      <td>86.500000</td>\n",
       "      <td>83.540001</td>\n",
       "      <td>86.389999</td>\n",
       "      <td>84.339996</td>\n",
       "      <td>9077900</td>\n",
       "      <td>84.339996</td>\n",
       "    </tr>\n",
       "    <tr>\n",
       "      <th>2018-10-05</th>\n",
       "      <td>84.839996</td>\n",
       "      <td>82.320000</td>\n",
       "      <td>84.209999</td>\n",
       "      <td>83.180000</td>\n",
       "      <td>10735800</td>\n",
       "      <td>83.180000</td>\n",
       "    </tr>\n",
       "  </tbody>\n",
       "</table>\n",
       "<p>820 rows × 6 columns</p>\n",
       "</div>"
      ],
      "text/plain": [
       "                 High        Low       Open      Close    Volume  Adj Close\n",
       "Date                                                                       \n",
       "2015-07-08  36.360001  34.529999  36.340000  34.700001   5387700  34.700001\n",
       "2015-07-09  35.520000  33.990002  35.099998  34.500000   3760100  34.500000\n",
       "2015-07-10  35.189999  33.980000  34.660000  34.689999   4472800  34.689999\n",
       "2015-07-13  37.500000  35.500000  35.590000  36.779999   7626000  36.779999\n",
       "2015-07-14  37.740002  36.599998  36.990002  36.930000   4653300  36.930000\n",
       "2015-07-15  38.200001  37.029999  37.980000  37.509998  13072800  37.509998\n",
       "2015-07-16  39.970001  38.080002  38.820000  38.630001  21348500  38.630001\n",
       "2015-07-17  40.200001  38.180000  39.419998  38.389999  45720200  38.389999\n",
       "2015-07-20  42.549999  39.799999  41.459999  40.470001  52286500  40.470001\n",
       "2015-07-21  41.110001  39.119999  41.080002  39.349998  32954600  39.349998\n",
       "2015-07-22  39.720001  38.099998  39.349998  38.389999  25363900  38.389999\n",
       "2015-07-23  38.750000  36.930000  38.740002  37.009998  19250200  37.009998\n",
       "2015-07-24  38.000000  36.910000  37.709999  37.000000  14274300  37.000000\n",
       "2015-07-27  37.380001  36.220001  36.779999  36.389999  16179900  36.389999\n",
       "2015-07-28  38.000000  36.830002  37.189999  37.599998  18986000  37.599998\n",
       "2015-07-29  38.099998  37.619999  38.029999  37.950001  11788400  37.950001\n",
       "2015-07-30  39.009998  37.715000  38.040001  38.450001  13845100  38.450001\n",
       "2015-07-31  39.200001  38.220001  39.139999  38.700001  12480600  38.700001\n",
       "2015-08-03  39.880001  38.900002  39.250000  39.389999  15126600  39.389999\n",
       "2015-08-04  39.910000  38.430000  39.910000  38.950001  10992200  38.950001\n",
       "2015-08-05  39.880001  39.169998  39.700001  39.270000   9463100  39.270000\n",
       "2015-08-06  39.740002  38.549999  39.630001  38.849998   7324100  38.849998\n",
       "2015-08-07  39.230000  38.599998  39.040001  39.130001   8331300  39.130001\n",
       "2015-08-10  39.689999  38.770000  39.430000  39.049999   7998900  39.049999\n",
       "2015-08-11  39.279999  38.720001  38.930000  38.849998   8184000  38.849998\n",
       "2015-08-12  38.580002  37.009998  38.549999  38.189999  21350600  38.189999\n",
       "2015-08-13  38.490002  37.439999  38.400002  37.619999   7863500  37.619999\n",
       "2015-08-14  38.180000  37.380001  37.490002  38.139999   6271100  38.139999\n",
       "2015-08-17  38.750000  37.700001  38.299999  38.730000   4931700  38.730000\n",
       "2015-08-18  39.000000  37.869999  39.000000  37.990002   4678800  37.990002\n",
       "...               ...        ...        ...        ...       ...        ...\n",
       "2018-08-24  90.129997  87.949997  87.949997  90.099998   7403900  90.099998\n",
       "2018-08-27  91.320000  89.779999  90.680000  89.970001   5466700  89.970001\n",
       "2018-08-28  90.849998  89.680000  90.099998  90.610001   4643800  90.610001\n",
       "2018-08-29  92.940002  90.779999  90.779999  92.620003   7841800  92.620003\n",
       "2018-08-30  93.010002  91.709999  92.290001  92.089996   7146600  92.089996\n",
       "2018-08-31  92.739998  91.800003  91.839996  92.330002   4874400  92.330002\n",
       "2018-09-04  93.440002  91.620003  91.940002  93.070000   6466700  93.070000\n",
       "2018-09-05  93.000000  88.699997  92.980003  89.050003  10202200  89.050003\n",
       "2018-09-06  89.555000  88.059998  89.180000  89.000000   6840300  89.000000\n",
       "2018-09-07  89.680000  87.389999  88.129997  88.820000   5679500  88.820000\n",
       "2018-09-10  89.989998  88.559998  89.430000  89.800003   5466000  89.800003\n",
       "2018-09-11  91.709999  89.035004  89.830002  91.430000   7321900  91.430000\n",
       "2018-09-12  92.459999  90.209999  91.529999  92.400002   7213500  92.400002\n",
       "2018-09-13  93.699997  92.059998  92.599998  92.190002   8308300  92.190002\n",
       "2018-09-14  92.680000  90.680000  92.250000  90.779999   9342800  90.779999\n",
       "2018-09-17  91.300003  88.510002  90.660004  88.680000   9293800  88.680000\n",
       "2018-09-18  90.089996  88.709999  88.709999  89.720001   5820700  89.720001\n",
       "2018-09-19  90.739998  88.237999  90.099998  89.309998   5495100  89.309998\n",
       "2018-09-20  90.779999  89.184998  89.839996  90.599998   6561700  90.599998\n",
       "2018-09-21  92.000000  90.419998  91.050003  90.620003  25379400  90.620003\n",
       "2018-09-24  90.260002  88.260002  89.949997  89.620003   8303100  89.620003\n",
       "2018-09-25  90.379997  89.275002  89.620003  90.040001   5953400  90.040001\n",
       "2018-09-26  90.930000  89.699997  90.339996  89.849998   5936200  89.849998\n",
       "2018-09-27  90.699997  88.860001  90.610001  88.989998   6996600  88.989998\n",
       "2018-09-28  89.044998  87.599998  88.790001  87.839996   7920600  87.839996\n",
       "2018-10-01  88.800003  87.400002  88.129997  87.550003   9260600  87.550003\n",
       "2018-10-02  87.349998  85.830002  87.269997  86.680000   6488200  86.680000\n",
       "2018-10-03  87.949997  86.370003  87.400002  87.150002   6625000  87.150002\n",
       "2018-10-04  86.500000  83.540001  86.389999  84.339996   9077900  84.339996\n",
       "2018-10-05  84.839996  82.320000  84.209999  83.180000  10735800  83.180000\n",
       "\n",
       "[820 rows x 6 columns]"
      ]
     },
     "execution_count": 23,
     "metadata": {},
     "output_type": "execute_result"
    }
   ],
   "source": [
    "stocks.loc[\"2015-07-08\" : \"2018-10-07\"]"
   ]
  },
  {
   "cell_type": "code",
   "execution_count": 24,
   "metadata": {},
   "outputs": [],
   "source": [
    "birthdays = pd.date_range(start = \"1994-05-06\", end = \"2018-12-31\", freq = pd.DateOffset(years = 1))"
   ]
  },
  {
   "cell_type": "code",
   "execution_count": 27,
   "metadata": {},
   "outputs": [
    {
     "data": {
      "text/plain": [
       "DatetimeIndex(['1994-05-06', '1995-05-06', '1996-05-06', '1997-05-06',\n",
       "               '1998-05-06', '1999-05-06', '2000-05-06', '2001-05-06',\n",
       "               '2002-05-06', '2003-05-06', '2004-05-06', '2005-05-06',\n",
       "               '2006-05-06', '2007-05-06', '2008-05-06', '2009-05-06',\n",
       "               '2010-05-06', '2011-05-06', '2012-05-06', '2013-05-06',\n",
       "               '2014-05-06', '2015-05-06', '2016-05-06', '2017-05-06',\n",
       "               '2018-05-06'],\n",
       "              dtype='datetime64[ns]', freq='<DateOffset: years=1>')"
      ]
     },
     "execution_count": 27,
     "metadata": {},
     "output_type": "execute_result"
    }
   ],
   "source": [
    "pd.date_range(start = \"1994-05-06\", end = \"2018-12-31\", freq = pd.DateOffset(years = 1))"
   ]
  },
  {
   "cell_type": "code",
   "execution_count": 25,
   "metadata": {},
   "outputs": [],
   "source": [
    "mask = stocks.index.isin(birthdays)"
   ]
  },
  {
   "cell_type": "code",
   "execution_count": 26,
   "metadata": {},
   "outputs": [
    {
     "data": {
      "text/html": [
       "<div>\n",
       "<style scoped>\n",
       "    .dataframe tbody tr th:only-of-type {\n",
       "        vertical-align: middle;\n",
       "    }\n",
       "\n",
       "    .dataframe tbody tr th {\n",
       "        vertical-align: top;\n",
       "    }\n",
       "\n",
       "    .dataframe thead th {\n",
       "        text-align: right;\n",
       "    }\n",
       "</style>\n",
       "<table border=\"1\" class=\"dataframe\">\n",
       "  <thead>\n",
       "    <tr style=\"text-align: right;\">\n",
       "      <th></th>\n",
       "      <th>High</th>\n",
       "      <th>Low</th>\n",
       "      <th>Open</th>\n",
       "      <th>Close</th>\n",
       "      <th>Volume</th>\n",
       "      <th>Adj Close</th>\n",
       "    </tr>\n",
       "    <tr>\n",
       "      <th>Date</th>\n",
       "      <th></th>\n",
       "      <th></th>\n",
       "      <th></th>\n",
       "      <th></th>\n",
       "      <th></th>\n",
       "      <th></th>\n",
       "    </tr>\n",
       "  </thead>\n",
       "  <tbody>\n",
       "    <tr>\n",
       "      <th>2016-05-06</th>\n",
       "      <td>39.700001</td>\n",
       "      <td>38.610001</td>\n",
       "      <td>38.709999</td>\n",
       "      <td>39.48</td>\n",
       "      <td>6548100</td>\n",
       "      <td>39.48</td>\n",
       "    </tr>\n",
       "  </tbody>\n",
       "</table>\n",
       "</div>"
      ],
      "text/plain": [
       "                 High        Low       Open  Close   Volume  Adj Close\n",
       "Date                                                                  \n",
       "2016-05-06  39.700001  38.610001  38.709999  39.48  6548100      39.48"
      ]
     },
     "execution_count": 26,
     "metadata": {},
     "output_type": "execute_result"
    }
   ],
   "source": [
    "stocks[mask]"
   ]
  },
  {
   "cell_type": "markdown",
   "metadata": {
    "collapsed": true
   },
   "source": [
    "## `Timestamp` Object Attributes"
   ]
  },
  {
   "cell_type": "code",
   "execution_count": 30,
   "metadata": {},
   "outputs": [
    {
     "data": {
      "text/html": [
       "<div>\n",
       "<style scoped>\n",
       "    .dataframe tbody tr th:only-of-type {\n",
       "        vertical-align: middle;\n",
       "    }\n",
       "\n",
       "    .dataframe tbody tr th {\n",
       "        vertical-align: top;\n",
       "    }\n",
       "\n",
       "    .dataframe thead th {\n",
       "        text-align: right;\n",
       "    }\n",
       "</style>\n",
       "<table border=\"1\" class=\"dataframe\">\n",
       "  <thead>\n",
       "    <tr style=\"text-align: right;\">\n",
       "      <th></th>\n",
       "      <th>High</th>\n",
       "      <th>Low</th>\n",
       "      <th>Open</th>\n",
       "      <th>Close</th>\n",
       "      <th>Volume</th>\n",
       "      <th>Adj Close</th>\n",
       "    </tr>\n",
       "    <tr>\n",
       "      <th>Date</th>\n",
       "      <th></th>\n",
       "      <th></th>\n",
       "      <th></th>\n",
       "      <th></th>\n",
       "      <th></th>\n",
       "      <th></th>\n",
       "    </tr>\n",
       "  </thead>\n",
       "  <tbody>\n",
       "    <tr>\n",
       "      <th>2015-07-06</th>\n",
       "      <td>39.750000</td>\n",
       "      <td>36.000000</td>\n",
       "      <td>38.000000</td>\n",
       "      <td>36.709999</td>\n",
       "      <td>5866600</td>\n",
       "      <td>36.709999</td>\n",
       "    </tr>\n",
       "    <tr>\n",
       "      <th>2015-07-07</th>\n",
       "      <td>37.810001</td>\n",
       "      <td>36.000000</td>\n",
       "      <td>37.720001</td>\n",
       "      <td>36.619999</td>\n",
       "      <td>7359000</td>\n",
       "      <td>36.619999</td>\n",
       "    </tr>\n",
       "    <tr>\n",
       "      <th>2015-07-08</th>\n",
       "      <td>36.360001</td>\n",
       "      <td>34.529999</td>\n",
       "      <td>36.340000</td>\n",
       "      <td>34.700001</td>\n",
       "      <td>5387700</td>\n",
       "      <td>34.700001</td>\n",
       "    </tr>\n",
       "    <tr>\n",
       "      <th>2015-07-09</th>\n",
       "      <td>35.520000</td>\n",
       "      <td>33.990002</td>\n",
       "      <td>35.099998</td>\n",
       "      <td>34.500000</td>\n",
       "      <td>3760100</td>\n",
       "      <td>34.500000</td>\n",
       "    </tr>\n",
       "    <tr>\n",
       "      <th>2015-07-10</th>\n",
       "      <td>35.189999</td>\n",
       "      <td>33.980000</td>\n",
       "      <td>34.660000</td>\n",
       "      <td>34.689999</td>\n",
       "      <td>4472800</td>\n",
       "      <td>34.689999</td>\n",
       "    </tr>\n",
       "  </tbody>\n",
       "</table>\n",
       "</div>"
      ],
      "text/plain": [
       "                 High        Low       Open      Close   Volume  Adj Close\n",
       "Date                                                                      \n",
       "2015-07-06  39.750000  36.000000  38.000000  36.709999  5866600  36.709999\n",
       "2015-07-07  37.810001  36.000000  37.720001  36.619999  7359000  36.619999\n",
       "2015-07-08  36.360001  34.529999  36.340000  34.700001  5387700  34.700001\n",
       "2015-07-09  35.520000  33.990002  35.099998  34.500000  3760100  34.500000\n",
       "2015-07-10  35.189999  33.980000  34.660000  34.689999  4472800  34.689999"
      ]
     },
     "execution_count": 30,
     "metadata": {},
     "output_type": "execute_result"
    }
   ],
   "source": [
    "stocks = data.DataReader(name = company, data_source = \"yahoo\", start = start, end = end)\n",
    "stocks.head()"
   ]
  },
  {
   "cell_type": "code",
   "execution_count": 31,
   "metadata": {},
   "outputs": [
    {
     "data": {
      "text/plain": [
       "Timestamp('2017-06-28 00:00:00')"
      ]
     },
     "execution_count": 31,
     "metadata": {},
     "output_type": "execute_result"
    }
   ],
   "source": [
    "someday = stocks.index[500]\n",
    "someday"
   ]
  },
  {
   "cell_type": "code",
   "execution_count": 32,
   "metadata": {},
   "outputs": [
    {
     "data": {
      "text/plain": [
       "28"
      ]
     },
     "execution_count": 32,
     "metadata": {},
     "output_type": "execute_result"
    }
   ],
   "source": [
    "someday.day\n",
    "# someday.month\n",
    "# someday.year\n",
    "# someday.is_month_start"
   ]
  },
  {
   "cell_type": "code",
   "execution_count": 33,
   "metadata": {},
   "outputs": [
    {
     "data": {
      "text/plain": [
       "False"
      ]
     },
     "execution_count": 33,
     "metadata": {},
     "output_type": "execute_result"
    }
   ],
   "source": [
    "someday.is_month_end"
   ]
  },
  {
   "cell_type": "code",
   "execution_count": 44,
   "metadata": {},
   "outputs": [
    {
     "data": {
      "text/plain": [
       "<bound method Timestamp.day_name of Timestamp('2017-06-28 00:00:00')>"
      ]
     },
     "execution_count": 44,
     "metadata": {},
     "output_type": "execute_result"
    }
   ],
   "source": [
    "someday.day_name"
   ]
  },
  {
   "cell_type": "code",
   "execution_count": 40,
   "metadata": {},
   "outputs": [],
   "source": [
    "stocks.insert(0, \"Day of Week\", stocks.index.weekday_name)"
   ]
  },
  {
   "cell_type": "code",
   "execution_count": 41,
   "metadata": {},
   "outputs": [],
   "source": [
    "stocks.insert(1, \"Is Start of Month\", stocks.index.is_month_start)"
   ]
  },
  {
   "cell_type": "code",
   "execution_count": 42,
   "metadata": {
    "scrolled": true
   },
   "outputs": [
    {
     "data": {
      "text/html": [
       "<div>\n",
       "<style scoped>\n",
       "    .dataframe tbody tr th:only-of-type {\n",
       "        vertical-align: middle;\n",
       "    }\n",
       "\n",
       "    .dataframe tbody tr th {\n",
       "        vertical-align: top;\n",
       "    }\n",
       "\n",
       "    .dataframe thead th {\n",
       "        text-align: right;\n",
       "    }\n",
       "</style>\n",
       "<table border=\"1\" class=\"dataframe\">\n",
       "  <thead>\n",
       "    <tr style=\"text-align: right;\">\n",
       "      <th></th>\n",
       "      <th>Day of Week</th>\n",
       "      <th>Is Start of Month</th>\n",
       "      <th>High</th>\n",
       "      <th>Low</th>\n",
       "      <th>Open</th>\n",
       "      <th>Close</th>\n",
       "      <th>Volume</th>\n",
       "      <th>Adj Close</th>\n",
       "    </tr>\n",
       "    <tr>\n",
       "      <th>Date</th>\n",
       "      <th></th>\n",
       "      <th></th>\n",
       "      <th></th>\n",
       "      <th></th>\n",
       "      <th></th>\n",
       "      <th></th>\n",
       "      <th></th>\n",
       "      <th></th>\n",
       "    </tr>\n",
       "  </thead>\n",
       "  <tbody>\n",
       "    <tr>\n",
       "      <th>2015-09-01</th>\n",
       "      <td>Tuesday</td>\n",
       "      <td>True</td>\n",
       "      <td>34.680000</td>\n",
       "      <td>33.410000</td>\n",
       "      <td>34.150002</td>\n",
       "      <td>33.770000</td>\n",
       "      <td>13376000</td>\n",
       "      <td>33.770000</td>\n",
       "    </tr>\n",
       "    <tr>\n",
       "      <th>2015-10-01</th>\n",
       "      <td>Thursday</td>\n",
       "      <td>True</td>\n",
       "      <td>31.587000</td>\n",
       "      <td>30.750000</td>\n",
       "      <td>30.820000</td>\n",
       "      <td>31.480000</td>\n",
       "      <td>9657000</td>\n",
       "      <td>31.480000</td>\n",
       "    </tr>\n",
       "    <tr>\n",
       "      <th>2015-12-01</th>\n",
       "      <td>Tuesday</td>\n",
       "      <td>True</td>\n",
       "      <td>35.410000</td>\n",
       "      <td>33.849998</td>\n",
       "      <td>35.410000</td>\n",
       "      <td>35.169998</td>\n",
       "      <td>14893900</td>\n",
       "      <td>35.169998</td>\n",
       "    </tr>\n",
       "    <tr>\n",
       "      <th>2016-02-01</th>\n",
       "      <td>Monday</td>\n",
       "      <td>True</td>\n",
       "      <td>37.320000</td>\n",
       "      <td>35.590000</td>\n",
       "      <td>35.650002</td>\n",
       "      <td>37.080002</td>\n",
       "      <td>17356000</td>\n",
       "      <td>37.080002</td>\n",
       "    </tr>\n",
       "    <tr>\n",
       "      <th>2016-03-01</th>\n",
       "      <td>Tuesday</td>\n",
       "      <td>True</td>\n",
       "      <td>39.544998</td>\n",
       "      <td>38.020000</td>\n",
       "      <td>38.520000</td>\n",
       "      <td>39.250000</td>\n",
       "      <td>14085300</td>\n",
       "      <td>39.250000</td>\n",
       "    </tr>\n",
       "    <tr>\n",
       "      <th>2016-04-01</th>\n",
       "      <td>Friday</td>\n",
       "      <td>True</td>\n",
       "      <td>39.459999</td>\n",
       "      <td>38.400002</td>\n",
       "      <td>38.509998</td>\n",
       "      <td>39.400002</td>\n",
       "      <td>6982000</td>\n",
       "      <td>39.400002</td>\n",
       "    </tr>\n",
       "    <tr>\n",
       "      <th>2016-06-01</th>\n",
       "      <td>Wednesday</td>\n",
       "      <td>True</td>\n",
       "      <td>38.479000</td>\n",
       "      <td>37.709999</td>\n",
       "      <td>37.810001</td>\n",
       "      <td>38.310001</td>\n",
       "      <td>5458500</td>\n",
       "      <td>38.310001</td>\n",
       "    </tr>\n",
       "    <tr>\n",
       "      <th>2016-07-01</th>\n",
       "      <td>Friday</td>\n",
       "      <td>True</td>\n",
       "      <td>36.669998</td>\n",
       "      <td>36.250000</td>\n",
       "      <td>36.599998</td>\n",
       "      <td>36.349998</td>\n",
       "      <td>7260400</td>\n",
       "      <td>36.349998</td>\n",
       "    </tr>\n",
       "    <tr>\n",
       "      <th>2016-08-01</th>\n",
       "      <td>Monday</td>\n",
       "      <td>True</td>\n",
       "      <td>37.439999</td>\n",
       "      <td>36.900002</td>\n",
       "      <td>37.430000</td>\n",
       "      <td>37.060001</td>\n",
       "      <td>5473900</td>\n",
       "      <td>37.060001</td>\n",
       "    </tr>\n",
       "    <tr>\n",
       "      <th>2016-09-01</th>\n",
       "      <td>Thursday</td>\n",
       "      <td>True</td>\n",
       "      <td>37.320000</td>\n",
       "      <td>36.580002</td>\n",
       "      <td>37.270000</td>\n",
       "      <td>36.830002</td>\n",
       "      <td>10412200</td>\n",
       "      <td>36.830002</td>\n",
       "    </tr>\n",
       "    <tr>\n",
       "      <th>2016-11-01</th>\n",
       "      <td>Tuesday</td>\n",
       "      <td>True</td>\n",
       "      <td>42.294998</td>\n",
       "      <td>41.290001</td>\n",
       "      <td>41.680000</td>\n",
       "      <td>41.540001</td>\n",
       "      <td>9399000</td>\n",
       "      <td>41.540001</td>\n",
       "    </tr>\n",
       "    <tr>\n",
       "      <th>2016-12-01</th>\n",
       "      <td>Thursday</td>\n",
       "      <td>True</td>\n",
       "      <td>39.680000</td>\n",
       "      <td>38.180000</td>\n",
       "      <td>39.560001</td>\n",
       "      <td>38.340000</td>\n",
       "      <td>11265600</td>\n",
       "      <td>38.340000</td>\n",
       "    </tr>\n",
       "    <tr>\n",
       "      <th>2017-02-01</th>\n",
       "      <td>Wednesday</td>\n",
       "      <td>True</td>\n",
       "      <td>40.000000</td>\n",
       "      <td>39.110001</td>\n",
       "      <td>39.959999</td>\n",
       "      <td>39.310001</td>\n",
       "      <td>8860400</td>\n",
       "      <td>39.310001</td>\n",
       "    </tr>\n",
       "    <tr>\n",
       "      <th>2017-03-01</th>\n",
       "      <td>Wednesday</td>\n",
       "      <td>True</td>\n",
       "      <td>42.520000</td>\n",
       "      <td>41.990002</td>\n",
       "      <td>42.310001</td>\n",
       "      <td>42.430000</td>\n",
       "      <td>6003800</td>\n",
       "      <td>42.430000</td>\n",
       "    </tr>\n",
       "    <tr>\n",
       "      <th>2017-05-01</th>\n",
       "      <td>Monday</td>\n",
       "      <td>True</td>\n",
       "      <td>47.713001</td>\n",
       "      <td>47.320000</td>\n",
       "      <td>47.389999</td>\n",
       "      <td>47.540001</td>\n",
       "      <td>14537500</td>\n",
       "      <td>47.540001</td>\n",
       "    </tr>\n",
       "    <tr>\n",
       "      <th>2017-06-01</th>\n",
       "      <td>Thursday</td>\n",
       "      <td>True</td>\n",
       "      <td>53.389999</td>\n",
       "      <td>52.474998</td>\n",
       "      <td>52.480000</td>\n",
       "      <td>53.160000</td>\n",
       "      <td>13898300</td>\n",
       "      <td>53.160000</td>\n",
       "    </tr>\n",
       "    <tr>\n",
       "      <th>2017-08-01</th>\n",
       "      <td>Tuesday</td>\n",
       "      <td>True</td>\n",
       "      <td>59.389999</td>\n",
       "      <td>58.790001</td>\n",
       "      <td>59.000000</td>\n",
       "      <td>59.340000</td>\n",
       "      <td>9079100</td>\n",
       "      <td>59.340000</td>\n",
       "    </tr>\n",
       "    <tr>\n",
       "      <th>2017-09-01</th>\n",
       "      <td>Friday</td>\n",
       "      <td>True</td>\n",
       "      <td>62.230000</td>\n",
       "      <td>61.382999</td>\n",
       "      <td>61.980000</td>\n",
       "      <td>61.459999</td>\n",
       "      <td>3440400</td>\n",
       "      <td>61.459999</td>\n",
       "    </tr>\n",
       "    <tr>\n",
       "      <th>2017-11-01</th>\n",
       "      <td>Wednesday</td>\n",
       "      <td>True</td>\n",
       "      <td>72.989998</td>\n",
       "      <td>71.690002</td>\n",
       "      <td>72.779999</td>\n",
       "      <td>72.379997</td>\n",
       "      <td>6655600</td>\n",
       "      <td>72.379997</td>\n",
       "    </tr>\n",
       "    <tr>\n",
       "      <th>2017-12-01</th>\n",
       "      <td>Friday</td>\n",
       "      <td>True</td>\n",
       "      <td>76.440002</td>\n",
       "      <td>74.260002</td>\n",
       "      <td>75.220001</td>\n",
       "      <td>75.300003</td>\n",
       "      <td>13387800</td>\n",
       "      <td>75.300003</td>\n",
       "    </tr>\n",
       "    <tr>\n",
       "      <th>2018-02-01</th>\n",
       "      <td>Thursday</td>\n",
       "      <td>True</td>\n",
       "      <td>80.949997</td>\n",
       "      <td>76.699997</td>\n",
       "      <td>79.949997</td>\n",
       "      <td>78.400002</td>\n",
       "      <td>44271600</td>\n",
       "      <td>78.400002</td>\n",
       "    </tr>\n",
       "    <tr>\n",
       "      <th>2018-03-01</th>\n",
       "      <td>Thursday</td>\n",
       "      <td>True</td>\n",
       "      <td>80.440002</td>\n",
       "      <td>77.879997</td>\n",
       "      <td>79.599998</td>\n",
       "      <td>78.639999</td>\n",
       "      <td>8443300</td>\n",
       "      <td>78.639999</td>\n",
       "    </tr>\n",
       "    <tr>\n",
       "      <th>2018-05-01</th>\n",
       "      <td>Tuesday</td>\n",
       "      <td>True</td>\n",
       "      <td>74.989998</td>\n",
       "      <td>73.599998</td>\n",
       "      <td>74.150002</td>\n",
       "      <td>74.809998</td>\n",
       "      <td>5660200</td>\n",
       "      <td>74.809998</td>\n",
       "    </tr>\n",
       "    <tr>\n",
       "      <th>2018-06-01</th>\n",
       "      <td>Friday</td>\n",
       "      <td>True</td>\n",
       "      <td>83.459999</td>\n",
       "      <td>81.849998</td>\n",
       "      <td>82.550003</td>\n",
       "      <td>83.250000</td>\n",
       "      <td>7092100</td>\n",
       "      <td>83.250000</td>\n",
       "    </tr>\n",
       "    <tr>\n",
       "      <th>2018-08-01</th>\n",
       "      <td>Wednesday</td>\n",
       "      <td>True</td>\n",
       "      <td>83.980003</td>\n",
       "      <td>82.010002</td>\n",
       "      <td>82.239998</td>\n",
       "      <td>83.459999</td>\n",
       "      <td>11160400</td>\n",
       "      <td>83.459999</td>\n",
       "    </tr>\n",
       "    <tr>\n",
       "      <th>2018-10-01</th>\n",
       "      <td>Monday</td>\n",
       "      <td>True</td>\n",
       "      <td>88.800003</td>\n",
       "      <td>87.400002</td>\n",
       "      <td>88.129997</td>\n",
       "      <td>87.550003</td>\n",
       "      <td>9260600</td>\n",
       "      <td>87.550003</td>\n",
       "    </tr>\n",
       "    <tr>\n",
       "      <th>2018-11-01</th>\n",
       "      <td>Thursday</td>\n",
       "      <td>True</td>\n",
       "      <td>85.150002</td>\n",
       "      <td>83.570000</td>\n",
       "      <td>84.180000</td>\n",
       "      <td>85.040001</td>\n",
       "      <td>5952600</td>\n",
       "      <td>85.040001</td>\n",
       "    </tr>\n",
       "  </tbody>\n",
       "</table>\n",
       "</div>"
      ],
      "text/plain": [
       "           Day of Week  Is Start of Month       High        Low       Open  \\\n",
       "Date                                                                         \n",
       "2015-09-01     Tuesday               True  34.680000  33.410000  34.150002   \n",
       "2015-10-01    Thursday               True  31.587000  30.750000  30.820000   \n",
       "2015-12-01     Tuesday               True  35.410000  33.849998  35.410000   \n",
       "2016-02-01      Monday               True  37.320000  35.590000  35.650002   \n",
       "2016-03-01     Tuesday               True  39.544998  38.020000  38.520000   \n",
       "2016-04-01      Friday               True  39.459999  38.400002  38.509998   \n",
       "2016-06-01   Wednesday               True  38.479000  37.709999  37.810001   \n",
       "2016-07-01      Friday               True  36.669998  36.250000  36.599998   \n",
       "2016-08-01      Monday               True  37.439999  36.900002  37.430000   \n",
       "2016-09-01    Thursday               True  37.320000  36.580002  37.270000   \n",
       "2016-11-01     Tuesday               True  42.294998  41.290001  41.680000   \n",
       "2016-12-01    Thursday               True  39.680000  38.180000  39.560001   \n",
       "2017-02-01   Wednesday               True  40.000000  39.110001  39.959999   \n",
       "2017-03-01   Wednesday               True  42.520000  41.990002  42.310001   \n",
       "2017-05-01      Monday               True  47.713001  47.320000  47.389999   \n",
       "2017-06-01    Thursday               True  53.389999  52.474998  52.480000   \n",
       "2017-08-01     Tuesday               True  59.389999  58.790001  59.000000   \n",
       "2017-09-01      Friday               True  62.230000  61.382999  61.980000   \n",
       "2017-11-01   Wednesday               True  72.989998  71.690002  72.779999   \n",
       "2017-12-01      Friday               True  76.440002  74.260002  75.220001   \n",
       "2018-02-01    Thursday               True  80.949997  76.699997  79.949997   \n",
       "2018-03-01    Thursday               True  80.440002  77.879997  79.599998   \n",
       "2018-05-01     Tuesday               True  74.989998  73.599998  74.150002   \n",
       "2018-06-01      Friday               True  83.459999  81.849998  82.550003   \n",
       "2018-08-01   Wednesday               True  83.980003  82.010002  82.239998   \n",
       "2018-10-01      Monday               True  88.800003  87.400002  88.129997   \n",
       "2018-11-01    Thursday               True  85.150002  83.570000  84.180000   \n",
       "\n",
       "                Close    Volume  Adj Close  \n",
       "Date                                        \n",
       "2015-09-01  33.770000  13376000  33.770000  \n",
       "2015-10-01  31.480000   9657000  31.480000  \n",
       "2015-12-01  35.169998  14893900  35.169998  \n",
       "2016-02-01  37.080002  17356000  37.080002  \n",
       "2016-03-01  39.250000  14085300  39.250000  \n",
       "2016-04-01  39.400002   6982000  39.400002  \n",
       "2016-06-01  38.310001   5458500  38.310001  \n",
       "2016-07-01  36.349998   7260400  36.349998  \n",
       "2016-08-01  37.060001   5473900  37.060001  \n",
       "2016-09-01  36.830002  10412200  36.830002  \n",
       "2016-11-01  41.540001   9399000  41.540001  \n",
       "2016-12-01  38.340000  11265600  38.340000  \n",
       "2017-02-01  39.310001   8860400  39.310001  \n",
       "2017-03-01  42.430000   6003800  42.430000  \n",
       "2017-05-01  47.540001  14537500  47.540001  \n",
       "2017-06-01  53.160000  13898300  53.160000  \n",
       "2017-08-01  59.340000   9079100  59.340000  \n",
       "2017-09-01  61.459999   3440400  61.459999  \n",
       "2017-11-01  72.379997   6655600  72.379997  \n",
       "2017-12-01  75.300003  13387800  75.300003  \n",
       "2018-02-01  78.400002  44271600  78.400002  \n",
       "2018-03-01  78.639999   8443300  78.639999  \n",
       "2018-05-01  74.809998   5660200  74.809998  \n",
       "2018-06-01  83.250000   7092100  83.250000  \n",
       "2018-08-01  83.459999  11160400  83.459999  \n",
       "2018-10-01  87.550003   9260600  87.550003  \n",
       "2018-11-01  85.040001   5952600  85.040001  "
      ]
     },
     "execution_count": 42,
     "metadata": {},
     "output_type": "execute_result"
    }
   ],
   "source": [
    "stocks[stocks[\"Is Start of Month\"]]"
   ]
  },
  {
   "cell_type": "markdown",
   "metadata": {
    "collapsed": true
   },
   "source": [
    "## The `.truncate()` Method"
   ]
  },
  {
   "cell_type": "code",
   "execution_count": 47,
   "metadata": {},
   "outputs": [
    {
     "data": {
      "text/html": [
       "<div>\n",
       "<style scoped>\n",
       "    .dataframe tbody tr th:only-of-type {\n",
       "        vertical-align: middle;\n",
       "    }\n",
       "\n",
       "    .dataframe tbody tr th {\n",
       "        vertical-align: top;\n",
       "    }\n",
       "\n",
       "    .dataframe thead th {\n",
       "        text-align: right;\n",
       "    }\n",
       "</style>\n",
       "<table border=\"1\" class=\"dataframe\">\n",
       "  <thead>\n",
       "    <tr style=\"text-align: right;\">\n",
       "      <th></th>\n",
       "      <th>High</th>\n",
       "      <th>Low</th>\n",
       "      <th>Open</th>\n",
       "      <th>Close</th>\n",
       "      <th>Volume</th>\n",
       "      <th>Adj Close</th>\n",
       "    </tr>\n",
       "    <tr>\n",
       "      <th>Date</th>\n",
       "      <th></th>\n",
       "      <th></th>\n",
       "      <th></th>\n",
       "      <th></th>\n",
       "      <th></th>\n",
       "      <th></th>\n",
       "    </tr>\n",
       "  </thead>\n",
       "  <tbody>\n",
       "    <tr>\n",
       "      <th>2015-07-06</th>\n",
       "      <td>39.750000</td>\n",
       "      <td>36.000000</td>\n",
       "      <td>38.000000</td>\n",
       "      <td>36.709999</td>\n",
       "      <td>5866600</td>\n",
       "      <td>36.709999</td>\n",
       "    </tr>\n",
       "    <tr>\n",
       "      <th>2015-07-07</th>\n",
       "      <td>37.810001</td>\n",
       "      <td>36.000000</td>\n",
       "      <td>37.720001</td>\n",
       "      <td>36.619999</td>\n",
       "      <td>7359000</td>\n",
       "      <td>36.619999</td>\n",
       "    </tr>\n",
       "    <tr>\n",
       "      <th>2015-07-08</th>\n",
       "      <td>36.360001</td>\n",
       "      <td>34.529999</td>\n",
       "      <td>36.340000</td>\n",
       "      <td>34.700001</td>\n",
       "      <td>5387700</td>\n",
       "      <td>34.700001</td>\n",
       "    </tr>\n",
       "    <tr>\n",
       "      <th>2015-07-09</th>\n",
       "      <td>35.520000</td>\n",
       "      <td>33.990002</td>\n",
       "      <td>35.099998</td>\n",
       "      <td>34.500000</td>\n",
       "      <td>3760100</td>\n",
       "      <td>34.500000</td>\n",
       "    </tr>\n",
       "    <tr>\n",
       "      <th>2015-07-10</th>\n",
       "      <td>35.189999</td>\n",
       "      <td>33.980000</td>\n",
       "      <td>34.660000</td>\n",
       "      <td>34.689999</td>\n",
       "      <td>4472800</td>\n",
       "      <td>34.689999</td>\n",
       "    </tr>\n",
       "  </tbody>\n",
       "</table>\n",
       "</div>"
      ],
      "text/plain": [
       "                 High        Low       Open      Close   Volume  Adj Close\n",
       "Date                                                                      \n",
       "2015-07-06  39.750000  36.000000  38.000000  36.709999  5866600  36.709999\n",
       "2015-07-07  37.810001  36.000000  37.720001  36.619999  7359000  36.619999\n",
       "2015-07-08  36.360001  34.529999  36.340000  34.700001  5387700  34.700001\n",
       "2015-07-09  35.520000  33.990002  35.099998  34.500000  3760100  34.500000\n",
       "2015-07-10  35.189999  33.980000  34.660000  34.689999  4472800  34.689999"
      ]
     },
     "execution_count": 47,
     "metadata": {},
     "output_type": "execute_result"
    }
   ],
   "source": [
    "stocks_2 = data.DataReader(name = company, data_source = \"yahoo\", start = start, end = end)\n",
    "stocks_2.head()"
   ]
  },
  {
   "cell_type": "code",
   "execution_count": 48,
   "metadata": {
    "scrolled": true
   },
   "outputs": [
    {
     "data": {
      "text/html": [
       "<div>\n",
       "<style scoped>\n",
       "    .dataframe tbody tr th:only-of-type {\n",
       "        vertical-align: middle;\n",
       "    }\n",
       "\n",
       "    .dataframe tbody tr th {\n",
       "        vertical-align: top;\n",
       "    }\n",
       "\n",
       "    .dataframe thead th {\n",
       "        text-align: right;\n",
       "    }\n",
       "</style>\n",
       "<table border=\"1\" class=\"dataframe\">\n",
       "  <thead>\n",
       "    <tr style=\"text-align: right;\">\n",
       "      <th></th>\n",
       "      <th>High</th>\n",
       "      <th>Low</th>\n",
       "      <th>Open</th>\n",
       "      <th>Close</th>\n",
       "      <th>Volume</th>\n",
       "      <th>Adj Close</th>\n",
       "    </tr>\n",
       "    <tr>\n",
       "      <th>Date</th>\n",
       "      <th></th>\n",
       "      <th></th>\n",
       "      <th></th>\n",
       "      <th></th>\n",
       "      <th></th>\n",
       "      <th></th>\n",
       "    </tr>\n",
       "  </thead>\n",
       "  <tbody>\n",
       "    <tr>\n",
       "      <th>2015-07-06</th>\n",
       "      <td>39.750000</td>\n",
       "      <td>36.000000</td>\n",
       "      <td>38.000000</td>\n",
       "      <td>36.709999</td>\n",
       "      <td>5866600</td>\n",
       "      <td>36.709999</td>\n",
       "    </tr>\n",
       "    <tr>\n",
       "      <th>2015-07-07</th>\n",
       "      <td>37.810001</td>\n",
       "      <td>36.000000</td>\n",
       "      <td>37.720001</td>\n",
       "      <td>36.619999</td>\n",
       "      <td>7359000</td>\n",
       "      <td>36.619999</td>\n",
       "    </tr>\n",
       "    <tr>\n",
       "      <th>2015-07-08</th>\n",
       "      <td>36.360001</td>\n",
       "      <td>34.529999</td>\n",
       "      <td>36.340000</td>\n",
       "      <td>34.700001</td>\n",
       "      <td>5387700</td>\n",
       "      <td>34.700001</td>\n",
       "    </tr>\n",
       "    <tr>\n",
       "      <th>2015-07-09</th>\n",
       "      <td>35.520000</td>\n",
       "      <td>33.990002</td>\n",
       "      <td>35.099998</td>\n",
       "      <td>34.500000</td>\n",
       "      <td>3760100</td>\n",
       "      <td>34.500000</td>\n",
       "    </tr>\n",
       "    <tr>\n",
       "      <th>2015-07-10</th>\n",
       "      <td>35.189999</td>\n",
       "      <td>33.980000</td>\n",
       "      <td>34.660000</td>\n",
       "      <td>34.689999</td>\n",
       "      <td>4472800</td>\n",
       "      <td>34.689999</td>\n",
       "    </tr>\n",
       "    <tr>\n",
       "      <th>2015-07-13</th>\n",
       "      <td>37.500000</td>\n",
       "      <td>35.500000</td>\n",
       "      <td>35.590000</td>\n",
       "      <td>36.779999</td>\n",
       "      <td>7626000</td>\n",
       "      <td>36.779999</td>\n",
       "    </tr>\n",
       "    <tr>\n",
       "      <th>2015-07-14</th>\n",
       "      <td>37.740002</td>\n",
       "      <td>36.599998</td>\n",
       "      <td>36.990002</td>\n",
       "      <td>36.930000</td>\n",
       "      <td>4653300</td>\n",
       "      <td>36.930000</td>\n",
       "    </tr>\n",
       "    <tr>\n",
       "      <th>2015-07-15</th>\n",
       "      <td>38.200001</td>\n",
       "      <td>37.029999</td>\n",
       "      <td>37.980000</td>\n",
       "      <td>37.509998</td>\n",
       "      <td>13072800</td>\n",
       "      <td>37.509998</td>\n",
       "    </tr>\n",
       "    <tr>\n",
       "      <th>2015-07-16</th>\n",
       "      <td>39.970001</td>\n",
       "      <td>38.080002</td>\n",
       "      <td>38.820000</td>\n",
       "      <td>38.630001</td>\n",
       "      <td>21348500</td>\n",
       "      <td>38.630001</td>\n",
       "    </tr>\n",
       "    <tr>\n",
       "      <th>2015-07-17</th>\n",
       "      <td>40.200001</td>\n",
       "      <td>38.180000</td>\n",
       "      <td>39.419998</td>\n",
       "      <td>38.389999</td>\n",
       "      <td>45720200</td>\n",
       "      <td>38.389999</td>\n",
       "    </tr>\n",
       "    <tr>\n",
       "      <th>2015-07-20</th>\n",
       "      <td>42.549999</td>\n",
       "      <td>39.799999</td>\n",
       "      <td>41.459999</td>\n",
       "      <td>40.470001</td>\n",
       "      <td>52286500</td>\n",
       "      <td>40.470001</td>\n",
       "    </tr>\n",
       "    <tr>\n",
       "      <th>2015-07-21</th>\n",
       "      <td>41.110001</td>\n",
       "      <td>39.119999</td>\n",
       "      <td>41.080002</td>\n",
       "      <td>39.349998</td>\n",
       "      <td>32954600</td>\n",
       "      <td>39.349998</td>\n",
       "    </tr>\n",
       "    <tr>\n",
       "      <th>2015-07-22</th>\n",
       "      <td>39.720001</td>\n",
       "      <td>38.099998</td>\n",
       "      <td>39.349998</td>\n",
       "      <td>38.389999</td>\n",
       "      <td>25363900</td>\n",
       "      <td>38.389999</td>\n",
       "    </tr>\n",
       "    <tr>\n",
       "      <th>2015-07-23</th>\n",
       "      <td>38.750000</td>\n",
       "      <td>36.930000</td>\n",
       "      <td>38.740002</td>\n",
       "      <td>37.009998</td>\n",
       "      <td>19250200</td>\n",
       "      <td>37.009998</td>\n",
       "    </tr>\n",
       "    <tr>\n",
       "      <th>2015-07-24</th>\n",
       "      <td>38.000000</td>\n",
       "      <td>36.910000</td>\n",
       "      <td>37.709999</td>\n",
       "      <td>37.000000</td>\n",
       "      <td>14274300</td>\n",
       "      <td>37.000000</td>\n",
       "    </tr>\n",
       "    <tr>\n",
       "      <th>2015-07-27</th>\n",
       "      <td>37.380001</td>\n",
       "      <td>36.220001</td>\n",
       "      <td>36.779999</td>\n",
       "      <td>36.389999</td>\n",
       "      <td>16179900</td>\n",
       "      <td>36.389999</td>\n",
       "    </tr>\n",
       "    <tr>\n",
       "      <th>2015-07-28</th>\n",
       "      <td>38.000000</td>\n",
       "      <td>36.830002</td>\n",
       "      <td>37.189999</td>\n",
       "      <td>37.599998</td>\n",
       "      <td>18986000</td>\n",
       "      <td>37.599998</td>\n",
       "    </tr>\n",
       "    <tr>\n",
       "      <th>2015-07-29</th>\n",
       "      <td>38.099998</td>\n",
       "      <td>37.619999</td>\n",
       "      <td>38.029999</td>\n",
       "      <td>37.950001</td>\n",
       "      <td>11788400</td>\n",
       "      <td>37.950001</td>\n",
       "    </tr>\n",
       "    <tr>\n",
       "      <th>2015-07-30</th>\n",
       "      <td>39.009998</td>\n",
       "      <td>37.715000</td>\n",
       "      <td>38.040001</td>\n",
       "      <td>38.450001</td>\n",
       "      <td>13845100</td>\n",
       "      <td>38.450001</td>\n",
       "    </tr>\n",
       "    <tr>\n",
       "      <th>2015-07-31</th>\n",
       "      <td>39.200001</td>\n",
       "      <td>38.220001</td>\n",
       "      <td>39.139999</td>\n",
       "      <td>38.700001</td>\n",
       "      <td>12480600</td>\n",
       "      <td>38.700001</td>\n",
       "    </tr>\n",
       "    <tr>\n",
       "      <th>2015-08-03</th>\n",
       "      <td>39.880001</td>\n",
       "      <td>38.900002</td>\n",
       "      <td>39.250000</td>\n",
       "      <td>39.389999</td>\n",
       "      <td>15126600</td>\n",
       "      <td>39.389999</td>\n",
       "    </tr>\n",
       "    <tr>\n",
       "      <th>2015-08-04</th>\n",
       "      <td>39.910000</td>\n",
       "      <td>38.430000</td>\n",
       "      <td>39.910000</td>\n",
       "      <td>38.950001</td>\n",
       "      <td>10992200</td>\n",
       "      <td>38.950001</td>\n",
       "    </tr>\n",
       "    <tr>\n",
       "      <th>2015-08-05</th>\n",
       "      <td>39.880001</td>\n",
       "      <td>39.169998</td>\n",
       "      <td>39.700001</td>\n",
       "      <td>39.270000</td>\n",
       "      <td>9463100</td>\n",
       "      <td>39.270000</td>\n",
       "    </tr>\n",
       "    <tr>\n",
       "      <th>2015-08-06</th>\n",
       "      <td>39.740002</td>\n",
       "      <td>38.549999</td>\n",
       "      <td>39.630001</td>\n",
       "      <td>38.849998</td>\n",
       "      <td>7324100</td>\n",
       "      <td>38.849998</td>\n",
       "    </tr>\n",
       "    <tr>\n",
       "      <th>2015-08-07</th>\n",
       "      <td>39.230000</td>\n",
       "      <td>38.599998</td>\n",
       "      <td>39.040001</td>\n",
       "      <td>39.130001</td>\n",
       "      <td>8331300</td>\n",
       "      <td>39.130001</td>\n",
       "    </tr>\n",
       "    <tr>\n",
       "      <th>2015-08-10</th>\n",
       "      <td>39.689999</td>\n",
       "      <td>38.770000</td>\n",
       "      <td>39.430000</td>\n",
       "      <td>39.049999</td>\n",
       "      <td>7998900</td>\n",
       "      <td>39.049999</td>\n",
       "    </tr>\n",
       "    <tr>\n",
       "      <th>2015-08-11</th>\n",
       "      <td>39.279999</td>\n",
       "      <td>38.720001</td>\n",
       "      <td>38.930000</td>\n",
       "      <td>38.849998</td>\n",
       "      <td>8184000</td>\n",
       "      <td>38.849998</td>\n",
       "    </tr>\n",
       "    <tr>\n",
       "      <th>2015-08-12</th>\n",
       "      <td>38.580002</td>\n",
       "      <td>37.009998</td>\n",
       "      <td>38.549999</td>\n",
       "      <td>38.189999</td>\n",
       "      <td>21350600</td>\n",
       "      <td>38.189999</td>\n",
       "    </tr>\n",
       "    <tr>\n",
       "      <th>2015-08-13</th>\n",
       "      <td>38.490002</td>\n",
       "      <td>37.439999</td>\n",
       "      <td>38.400002</td>\n",
       "      <td>37.619999</td>\n",
       "      <td>7863500</td>\n",
       "      <td>37.619999</td>\n",
       "    </tr>\n",
       "    <tr>\n",
       "      <th>2015-08-14</th>\n",
       "      <td>38.180000</td>\n",
       "      <td>37.380001</td>\n",
       "      <td>37.490002</td>\n",
       "      <td>38.139999</td>\n",
       "      <td>6271100</td>\n",
       "      <td>38.139999</td>\n",
       "    </tr>\n",
       "    <tr>\n",
       "      <th>...</th>\n",
       "      <td>...</td>\n",
       "      <td>...</td>\n",
       "      <td>...</td>\n",
       "      <td>...</td>\n",
       "      <td>...</td>\n",
       "      <td>...</td>\n",
       "    </tr>\n",
       "    <tr>\n",
       "      <th>2017-01-17</th>\n",
       "      <td>41.709999</td>\n",
       "      <td>41.200001</td>\n",
       "      <td>41.599998</td>\n",
       "      <td>41.270000</td>\n",
       "      <td>5932900</td>\n",
       "      <td>41.270000</td>\n",
       "    </tr>\n",
       "    <tr>\n",
       "      <th>2017-01-18</th>\n",
       "      <td>41.490002</td>\n",
       "      <td>41.110001</td>\n",
       "      <td>41.410000</td>\n",
       "      <td>41.349998</td>\n",
       "      <td>4706000</td>\n",
       "      <td>41.349998</td>\n",
       "    </tr>\n",
       "    <tr>\n",
       "      <th>2017-01-19</th>\n",
       "      <td>41.680000</td>\n",
       "      <td>41.029999</td>\n",
       "      <td>41.250000</td>\n",
       "      <td>41.270000</td>\n",
       "      <td>4717600</td>\n",
       "      <td>41.270000</td>\n",
       "    </tr>\n",
       "    <tr>\n",
       "      <th>2017-01-20</th>\n",
       "      <td>41.720001</td>\n",
       "      <td>41.299999</td>\n",
       "      <td>41.389999</td>\n",
       "      <td>41.689999</td>\n",
       "      <td>6868500</td>\n",
       "      <td>41.689999</td>\n",
       "    </tr>\n",
       "    <tr>\n",
       "      <th>2017-01-23</th>\n",
       "      <td>42.110001</td>\n",
       "      <td>41.250000</td>\n",
       "      <td>41.860001</td>\n",
       "      <td>41.619999</td>\n",
       "      <td>8497100</td>\n",
       "      <td>41.619999</td>\n",
       "    </tr>\n",
       "    <tr>\n",
       "      <th>2017-01-24</th>\n",
       "      <td>42.040001</td>\n",
       "      <td>41.529999</td>\n",
       "      <td>41.950001</td>\n",
       "      <td>41.959999</td>\n",
       "      <td>6106500</td>\n",
       "      <td>41.959999</td>\n",
       "    </tr>\n",
       "    <tr>\n",
       "      <th>2017-01-25</th>\n",
       "      <td>42.439999</td>\n",
       "      <td>41.660000</td>\n",
       "      <td>42.360001</td>\n",
       "      <td>41.709999</td>\n",
       "      <td>8604000</td>\n",
       "      <td>41.709999</td>\n",
       "    </tr>\n",
       "    <tr>\n",
       "      <th>2017-01-26</th>\n",
       "      <td>42.500000</td>\n",
       "      <td>41.285000</td>\n",
       "      <td>42.360001</td>\n",
       "      <td>41.500000</td>\n",
       "      <td>11838100</td>\n",
       "      <td>41.500000</td>\n",
       "    </tr>\n",
       "    <tr>\n",
       "      <th>2017-01-27</th>\n",
       "      <td>41.200001</td>\n",
       "      <td>39.919998</td>\n",
       "      <td>41.000000</td>\n",
       "      <td>40.270000</td>\n",
       "      <td>22749200</td>\n",
       "      <td>40.270000</td>\n",
       "    </tr>\n",
       "    <tr>\n",
       "      <th>2017-01-30</th>\n",
       "      <td>40.270000</td>\n",
       "      <td>39.419998</td>\n",
       "      <td>40.169998</td>\n",
       "      <td>39.860001</td>\n",
       "      <td>11486000</td>\n",
       "      <td>39.860001</td>\n",
       "    </tr>\n",
       "    <tr>\n",
       "      <th>2017-01-31</th>\n",
       "      <td>40.009998</td>\n",
       "      <td>39.450001</td>\n",
       "      <td>39.700001</td>\n",
       "      <td>39.779999</td>\n",
       "      <td>9100100</td>\n",
       "      <td>39.779999</td>\n",
       "    </tr>\n",
       "    <tr>\n",
       "      <th>2017-02-01</th>\n",
       "      <td>40.000000</td>\n",
       "      <td>39.110001</td>\n",
       "      <td>39.959999</td>\n",
       "      <td>39.310001</td>\n",
       "      <td>8860400</td>\n",
       "      <td>39.310001</td>\n",
       "    </tr>\n",
       "    <tr>\n",
       "      <th>2017-02-02</th>\n",
       "      <td>39.840000</td>\n",
       "      <td>39.020000</td>\n",
       "      <td>39.400002</td>\n",
       "      <td>39.580002</td>\n",
       "      <td>8736800</td>\n",
       "      <td>39.580002</td>\n",
       "    </tr>\n",
       "    <tr>\n",
       "      <th>2017-02-03</th>\n",
       "      <td>39.930000</td>\n",
       "      <td>39.549999</td>\n",
       "      <td>39.790001</td>\n",
       "      <td>39.590000</td>\n",
       "      <td>7131100</td>\n",
       "      <td>39.590000</td>\n",
       "    </tr>\n",
       "    <tr>\n",
       "      <th>2017-02-06</th>\n",
       "      <td>39.830002</td>\n",
       "      <td>39.340000</td>\n",
       "      <td>39.639999</td>\n",
       "      <td>39.740002</td>\n",
       "      <td>8206400</td>\n",
       "      <td>39.740002</td>\n",
       "    </tr>\n",
       "    <tr>\n",
       "      <th>2017-02-07</th>\n",
       "      <td>40.340000</td>\n",
       "      <td>39.700001</td>\n",
       "      <td>40.009998</td>\n",
       "      <td>40.020000</td>\n",
       "      <td>7956300</td>\n",
       "      <td>40.020000</td>\n",
       "    </tr>\n",
       "    <tr>\n",
       "      <th>2017-02-08</th>\n",
       "      <td>40.990002</td>\n",
       "      <td>39.919998</td>\n",
       "      <td>40.180000</td>\n",
       "      <td>40.880001</td>\n",
       "      <td>7399000</td>\n",
       "      <td>40.880001</td>\n",
       "    </tr>\n",
       "    <tr>\n",
       "      <th>2017-02-09</th>\n",
       "      <td>40.994999</td>\n",
       "      <td>40.299999</td>\n",
       "      <td>40.439999</td>\n",
       "      <td>40.830002</td>\n",
       "      <td>6467600</td>\n",
       "      <td>40.830002</td>\n",
       "    </tr>\n",
       "    <tr>\n",
       "      <th>2017-02-10</th>\n",
       "      <td>40.860001</td>\n",
       "      <td>40.560001</td>\n",
       "      <td>40.820000</td>\n",
       "      <td>40.580002</td>\n",
       "      <td>6248200</td>\n",
       "      <td>40.580002</td>\n",
       "    </tr>\n",
       "    <tr>\n",
       "      <th>2017-02-13</th>\n",
       "      <td>41.299999</td>\n",
       "      <td>40.740002</td>\n",
       "      <td>40.830002</td>\n",
       "      <td>41.169998</td>\n",
       "      <td>6260900</td>\n",
       "      <td>41.169998</td>\n",
       "    </tr>\n",
       "    <tr>\n",
       "      <th>2017-02-14</th>\n",
       "      <td>41.630001</td>\n",
       "      <td>40.939999</td>\n",
       "      <td>41.180000</td>\n",
       "      <td>41.619999</td>\n",
       "      <td>6496400</td>\n",
       "      <td>41.619999</td>\n",
       "    </tr>\n",
       "    <tr>\n",
       "      <th>2017-02-15</th>\n",
       "      <td>41.930000</td>\n",
       "      <td>41.270000</td>\n",
       "      <td>41.689999</td>\n",
       "      <td>41.869999</td>\n",
       "      <td>7124600</td>\n",
       "      <td>41.869999</td>\n",
       "    </tr>\n",
       "    <tr>\n",
       "      <th>2017-02-16</th>\n",
       "      <td>42.310001</td>\n",
       "      <td>41.700001</td>\n",
       "      <td>41.869999</td>\n",
       "      <td>42.150002</td>\n",
       "      <td>5730800</td>\n",
       "      <td>42.150002</td>\n",
       "    </tr>\n",
       "    <tr>\n",
       "      <th>2017-02-17</th>\n",
       "      <td>42.299999</td>\n",
       "      <td>41.799999</td>\n",
       "      <td>41.919998</td>\n",
       "      <td>41.959999</td>\n",
       "      <td>5106000</td>\n",
       "      <td>41.959999</td>\n",
       "    </tr>\n",
       "    <tr>\n",
       "      <th>2017-02-21</th>\n",
       "      <td>42.560001</td>\n",
       "      <td>41.900002</td>\n",
       "      <td>41.930000</td>\n",
       "      <td>42.430000</td>\n",
       "      <td>5874700</td>\n",
       "      <td>42.430000</td>\n",
       "    </tr>\n",
       "    <tr>\n",
       "      <th>2017-02-22</th>\n",
       "      <td>42.529999</td>\n",
       "      <td>42.119999</td>\n",
       "      <td>42.299999</td>\n",
       "      <td>42.419998</td>\n",
       "      <td>4316200</td>\n",
       "      <td>42.419998</td>\n",
       "    </tr>\n",
       "    <tr>\n",
       "      <th>2017-02-23</th>\n",
       "      <td>42.669998</td>\n",
       "      <td>42.160000</td>\n",
       "      <td>42.369999</td>\n",
       "      <td>42.529999</td>\n",
       "      <td>5456300</td>\n",
       "      <td>42.529999</td>\n",
       "    </tr>\n",
       "    <tr>\n",
       "      <th>2017-02-24</th>\n",
       "      <td>43.070000</td>\n",
       "      <td>41.830002</td>\n",
       "      <td>42.110001</td>\n",
       "      <td>43.070000</td>\n",
       "      <td>6769500</td>\n",
       "      <td>43.070000</td>\n",
       "    </tr>\n",
       "    <tr>\n",
       "      <th>2017-02-27</th>\n",
       "      <td>42.889999</td>\n",
       "      <td>42.349998</td>\n",
       "      <td>42.889999</td>\n",
       "      <td>42.639999</td>\n",
       "      <td>5026700</td>\n",
       "      <td>42.639999</td>\n",
       "    </tr>\n",
       "    <tr>\n",
       "      <th>2017-02-28</th>\n",
       "      <td>42.490002</td>\n",
       "      <td>41.990002</td>\n",
       "      <td>42.490002</td>\n",
       "      <td>42.000000</td>\n",
       "      <td>6956800</td>\n",
       "      <td>42.000000</td>\n",
       "    </tr>\n",
       "  </tbody>\n",
       "</table>\n",
       "<p>417 rows × 6 columns</p>\n",
       "</div>"
      ],
      "text/plain": [
       "                 High        Low       Open      Close    Volume  Adj Close\n",
       "Date                                                                       \n",
       "2015-07-06  39.750000  36.000000  38.000000  36.709999   5866600  36.709999\n",
       "2015-07-07  37.810001  36.000000  37.720001  36.619999   7359000  36.619999\n",
       "2015-07-08  36.360001  34.529999  36.340000  34.700001   5387700  34.700001\n",
       "2015-07-09  35.520000  33.990002  35.099998  34.500000   3760100  34.500000\n",
       "2015-07-10  35.189999  33.980000  34.660000  34.689999   4472800  34.689999\n",
       "2015-07-13  37.500000  35.500000  35.590000  36.779999   7626000  36.779999\n",
       "2015-07-14  37.740002  36.599998  36.990002  36.930000   4653300  36.930000\n",
       "2015-07-15  38.200001  37.029999  37.980000  37.509998  13072800  37.509998\n",
       "2015-07-16  39.970001  38.080002  38.820000  38.630001  21348500  38.630001\n",
       "2015-07-17  40.200001  38.180000  39.419998  38.389999  45720200  38.389999\n",
       "2015-07-20  42.549999  39.799999  41.459999  40.470001  52286500  40.470001\n",
       "2015-07-21  41.110001  39.119999  41.080002  39.349998  32954600  39.349998\n",
       "2015-07-22  39.720001  38.099998  39.349998  38.389999  25363900  38.389999\n",
       "2015-07-23  38.750000  36.930000  38.740002  37.009998  19250200  37.009998\n",
       "2015-07-24  38.000000  36.910000  37.709999  37.000000  14274300  37.000000\n",
       "2015-07-27  37.380001  36.220001  36.779999  36.389999  16179900  36.389999\n",
       "2015-07-28  38.000000  36.830002  37.189999  37.599998  18986000  37.599998\n",
       "2015-07-29  38.099998  37.619999  38.029999  37.950001  11788400  37.950001\n",
       "2015-07-30  39.009998  37.715000  38.040001  38.450001  13845100  38.450001\n",
       "2015-07-31  39.200001  38.220001  39.139999  38.700001  12480600  38.700001\n",
       "2015-08-03  39.880001  38.900002  39.250000  39.389999  15126600  39.389999\n",
       "2015-08-04  39.910000  38.430000  39.910000  38.950001  10992200  38.950001\n",
       "2015-08-05  39.880001  39.169998  39.700001  39.270000   9463100  39.270000\n",
       "2015-08-06  39.740002  38.549999  39.630001  38.849998   7324100  38.849998\n",
       "2015-08-07  39.230000  38.599998  39.040001  39.130001   8331300  39.130001\n",
       "2015-08-10  39.689999  38.770000  39.430000  39.049999   7998900  39.049999\n",
       "2015-08-11  39.279999  38.720001  38.930000  38.849998   8184000  38.849998\n",
       "2015-08-12  38.580002  37.009998  38.549999  38.189999  21350600  38.189999\n",
       "2015-08-13  38.490002  37.439999  38.400002  37.619999   7863500  37.619999\n",
       "2015-08-14  38.180000  37.380001  37.490002  38.139999   6271100  38.139999\n",
       "...               ...        ...        ...        ...       ...        ...\n",
       "2017-01-17  41.709999  41.200001  41.599998  41.270000   5932900  41.270000\n",
       "2017-01-18  41.490002  41.110001  41.410000  41.349998   4706000  41.349998\n",
       "2017-01-19  41.680000  41.029999  41.250000  41.270000   4717600  41.270000\n",
       "2017-01-20  41.720001  41.299999  41.389999  41.689999   6868500  41.689999\n",
       "2017-01-23  42.110001  41.250000  41.860001  41.619999   8497100  41.619999\n",
       "2017-01-24  42.040001  41.529999  41.950001  41.959999   6106500  41.959999\n",
       "2017-01-25  42.439999  41.660000  42.360001  41.709999   8604000  41.709999\n",
       "2017-01-26  42.500000  41.285000  42.360001  41.500000  11838100  41.500000\n",
       "2017-01-27  41.200001  39.919998  41.000000  40.270000  22749200  40.270000\n",
       "2017-01-30  40.270000  39.419998  40.169998  39.860001  11486000  39.860001\n",
       "2017-01-31  40.009998  39.450001  39.700001  39.779999   9100100  39.779999\n",
       "2017-02-01  40.000000  39.110001  39.959999  39.310001   8860400  39.310001\n",
       "2017-02-02  39.840000  39.020000  39.400002  39.580002   8736800  39.580002\n",
       "2017-02-03  39.930000  39.549999  39.790001  39.590000   7131100  39.590000\n",
       "2017-02-06  39.830002  39.340000  39.639999  39.740002   8206400  39.740002\n",
       "2017-02-07  40.340000  39.700001  40.009998  40.020000   7956300  40.020000\n",
       "2017-02-08  40.990002  39.919998  40.180000  40.880001   7399000  40.880001\n",
       "2017-02-09  40.994999  40.299999  40.439999  40.830002   6467600  40.830002\n",
       "2017-02-10  40.860001  40.560001  40.820000  40.580002   6248200  40.580002\n",
       "2017-02-13  41.299999  40.740002  40.830002  41.169998   6260900  41.169998\n",
       "2017-02-14  41.630001  40.939999  41.180000  41.619999   6496400  41.619999\n",
       "2017-02-15  41.930000  41.270000  41.689999  41.869999   7124600  41.869999\n",
       "2017-02-16  42.310001  41.700001  41.869999  42.150002   5730800  42.150002\n",
       "2017-02-17  42.299999  41.799999  41.919998  41.959999   5106000  41.959999\n",
       "2017-02-21  42.560001  41.900002  41.930000  42.430000   5874700  42.430000\n",
       "2017-02-22  42.529999  42.119999  42.299999  42.419998   4316200  42.419998\n",
       "2017-02-23  42.669998  42.160000  42.369999  42.529999   5456300  42.529999\n",
       "2017-02-24  43.070000  41.830002  42.110001  43.070000   6769500  43.070000\n",
       "2017-02-27  42.889999  42.349998  42.889999  42.639999   5026700  42.639999\n",
       "2017-02-28  42.490002  41.990002  42.490002  42.000000   6956800  42.000000\n",
       "\n",
       "[417 rows x 6 columns]"
      ]
     },
     "execution_count": 48,
     "metadata": {},
     "output_type": "execute_result"
    }
   ],
   "source": [
    "stocks_2.truncate(before = \"2015-06-07\", after = \"2017-02-28\")"
   ]
  },
  {
   "cell_type": "markdown",
   "metadata": {},
   "source": [
    "## `pd.DateOffset` Objects"
   ]
  },
  {
   "cell_type": "code",
   "execution_count": 49,
   "metadata": {},
   "outputs": [
    {
     "data": {
      "text/html": [
       "<div>\n",
       "<style scoped>\n",
       "    .dataframe tbody tr th:only-of-type {\n",
       "        vertical-align: middle;\n",
       "    }\n",
       "\n",
       "    .dataframe tbody tr th {\n",
       "        vertical-align: top;\n",
       "    }\n",
       "\n",
       "    .dataframe thead th {\n",
       "        text-align: right;\n",
       "    }\n",
       "</style>\n",
       "<table border=\"1\" class=\"dataframe\">\n",
       "  <thead>\n",
       "    <tr style=\"text-align: right;\">\n",
       "      <th></th>\n",
       "      <th>High</th>\n",
       "      <th>Low</th>\n",
       "      <th>Open</th>\n",
       "      <th>Close</th>\n",
       "      <th>Volume</th>\n",
       "      <th>Adj Close</th>\n",
       "    </tr>\n",
       "    <tr>\n",
       "      <th>Date</th>\n",
       "      <th></th>\n",
       "      <th></th>\n",
       "      <th></th>\n",
       "      <th></th>\n",
       "      <th></th>\n",
       "      <th></th>\n",
       "    </tr>\n",
       "  </thead>\n",
       "  <tbody>\n",
       "    <tr>\n",
       "      <th>2004-08-19</th>\n",
       "      <td>51.693783</td>\n",
       "      <td>47.669952</td>\n",
       "      <td>49.676899</td>\n",
       "      <td>49.845802</td>\n",
       "      <td>44994500.0</td>\n",
       "      <td>49.845802</td>\n",
       "    </tr>\n",
       "    <tr>\n",
       "      <th>2004-08-20</th>\n",
       "      <td>54.187561</td>\n",
       "      <td>49.925285</td>\n",
       "      <td>50.178635</td>\n",
       "      <td>53.805050</td>\n",
       "      <td>23005800.0</td>\n",
       "      <td>53.805050</td>\n",
       "    </tr>\n",
       "    <tr>\n",
       "      <th>2004-08-23</th>\n",
       "      <td>56.373344</td>\n",
       "      <td>54.172661</td>\n",
       "      <td>55.017166</td>\n",
       "      <td>54.346527</td>\n",
       "      <td>18393200.0</td>\n",
       "      <td>54.346527</td>\n",
       "    </tr>\n",
       "    <tr>\n",
       "      <th>2004-08-24</th>\n",
       "      <td>55.439419</td>\n",
       "      <td>51.450363</td>\n",
       "      <td>55.260582</td>\n",
       "      <td>52.096165</td>\n",
       "      <td>15361800.0</td>\n",
       "      <td>52.096165</td>\n",
       "    </tr>\n",
       "    <tr>\n",
       "      <th>2004-08-25</th>\n",
       "      <td>53.651051</td>\n",
       "      <td>51.604362</td>\n",
       "      <td>52.140873</td>\n",
       "      <td>52.657513</td>\n",
       "      <td>9257400.0</td>\n",
       "      <td>52.657513</td>\n",
       "    </tr>\n",
       "  </tbody>\n",
       "</table>\n",
       "</div>"
      ],
      "text/plain": [
       "                 High        Low       Open      Close      Volume  Adj Close\n",
       "Date                                                                         \n",
       "2004-08-19  51.693783  47.669952  49.676899  49.845802  44994500.0  49.845802\n",
       "2004-08-20  54.187561  49.925285  50.178635  53.805050  23005800.0  53.805050\n",
       "2004-08-23  56.373344  54.172661  55.017166  54.346527  18393200.0  54.346527\n",
       "2004-08-24  55.439419  51.450363  55.260582  52.096165  15361800.0  52.096165\n",
       "2004-08-25  53.651051  51.604362  52.140873  52.657513   9257400.0  52.657513"
      ]
     },
     "execution_count": 49,
     "metadata": {},
     "output_type": "execute_result"
    }
   ],
   "source": [
    "stocks_3 = data.DataReader(name = \"GOOG\", data_source = \"yahoo\",\n",
    "                start = dt.date(2000, 1, 1), end = dt.datetime.now())\n",
    "stocks_3.head()"
   ]
  },
  {
   "cell_type": "code",
   "execution_count": 50,
   "metadata": {},
   "outputs": [
    {
     "data": {
      "text/plain": [
       "DatetimeIndex(['2010-05-01 03:42:00', '2010-05-02 03:42:00',\n",
       "               '2010-05-05 03:42:00', '2010-05-06 03:42:00',\n",
       "               '2010-05-07 03:42:00', '2010-05-08 03:42:00',\n",
       "               '2010-05-09 03:42:00', '2010-05-12 03:42:00',\n",
       "               '2010-05-12 03:42:00', '2010-05-13 03:42:00',\n",
       "               ...\n",
       "               '2025-01-19 03:42:00', '2025-01-20 03:42:00',\n",
       "               '2025-01-21 03:42:00', '2025-01-22 03:42:00',\n",
       "               '2025-01-25 03:42:00', '2025-01-26 03:42:00',\n",
       "               '2025-01-27 03:42:00', '2025-01-28 03:42:00',\n",
       "               '2025-01-29 03:42:00', '2025-02-01 03:42:00'],\n",
       "              dtype='datetime64[ns]', name='Date', length=3713, freq=None)"
      ]
     },
     "execution_count": 50,
     "metadata": {},
     "output_type": "execute_result"
    }
   ],
   "source": [
    "stocks_3.index + pd.DateOffset(months = 8, years = 5, days = 12, hours = 3, minutes = 42)"
   ]
  },
  {
   "cell_type": "markdown",
   "metadata": {},
   "source": [
    "## More Fun with `pd.DateOffset` Objects"
   ]
  },
  {
   "cell_type": "code",
   "execution_count": 51,
   "metadata": {},
   "outputs": [],
   "source": [
    "import pandas as pd\n",
    "import datetime as dt\n",
    "from pandas_datareader import data\n",
    "from pandas.tseries.offsets import *"
   ]
  },
  {
   "cell_type": "code",
   "execution_count": 52,
   "metadata": {},
   "outputs": [
    {
     "data": {
      "text/html": [
       "<div>\n",
       "<style scoped>\n",
       "    .dataframe tbody tr th:only-of-type {\n",
       "        vertical-align: middle;\n",
       "    }\n",
       "\n",
       "    .dataframe tbody tr th {\n",
       "        vertical-align: top;\n",
       "    }\n",
       "\n",
       "    .dataframe thead th {\n",
       "        text-align: right;\n",
       "    }\n",
       "</style>\n",
       "<table border=\"1\" class=\"dataframe\">\n",
       "  <thead>\n",
       "    <tr style=\"text-align: right;\">\n",
       "      <th></th>\n",
       "      <th>High</th>\n",
       "      <th>Low</th>\n",
       "      <th>Open</th>\n",
       "      <th>Close</th>\n",
       "      <th>Volume</th>\n",
       "      <th>Adj Close</th>\n",
       "    </tr>\n",
       "    <tr>\n",
       "      <th>Date</th>\n",
       "      <th></th>\n",
       "      <th></th>\n",
       "      <th></th>\n",
       "      <th></th>\n",
       "      <th></th>\n",
       "      <th></th>\n",
       "    </tr>\n",
       "  </thead>\n",
       "  <tbody>\n",
       "    <tr>\n",
       "      <th>2004-08-19</th>\n",
       "      <td>51.693783</td>\n",
       "      <td>47.669952</td>\n",
       "      <td>49.676899</td>\n",
       "      <td>49.845802</td>\n",
       "      <td>44994500.0</td>\n",
       "      <td>49.845802</td>\n",
       "    </tr>\n",
       "    <tr>\n",
       "      <th>2004-08-20</th>\n",
       "      <td>54.187561</td>\n",
       "      <td>49.925285</td>\n",
       "      <td>50.178635</td>\n",
       "      <td>53.805050</td>\n",
       "      <td>23005800.0</td>\n",
       "      <td>53.805050</td>\n",
       "    </tr>\n",
       "    <tr>\n",
       "      <th>2004-08-23</th>\n",
       "      <td>56.373344</td>\n",
       "      <td>54.172661</td>\n",
       "      <td>55.017166</td>\n",
       "      <td>54.346527</td>\n",
       "      <td>18393200.0</td>\n",
       "      <td>54.346527</td>\n",
       "    </tr>\n",
       "    <tr>\n",
       "      <th>2004-08-24</th>\n",
       "      <td>55.439419</td>\n",
       "      <td>51.450363</td>\n",
       "      <td>55.260582</td>\n",
       "      <td>52.096165</td>\n",
       "      <td>15361800.0</td>\n",
       "      <td>52.096165</td>\n",
       "    </tr>\n",
       "    <tr>\n",
       "      <th>2004-08-25</th>\n",
       "      <td>53.651051</td>\n",
       "      <td>51.604362</td>\n",
       "      <td>52.140873</td>\n",
       "      <td>52.657513</td>\n",
       "      <td>9257400.0</td>\n",
       "      <td>52.657513</td>\n",
       "    </tr>\n",
       "  </tbody>\n",
       "</table>\n",
       "</div>"
      ],
      "text/plain": [
       "                 High        Low       Open      Close      Volume  Adj Close\n",
       "Date                                                                         \n",
       "2004-08-19  51.693783  47.669952  49.676899  49.845802  44994500.0  49.845802\n",
       "2004-08-20  54.187561  49.925285  50.178635  53.805050  23005800.0  53.805050\n",
       "2004-08-23  56.373344  54.172661  55.017166  54.346527  18393200.0  54.346527\n",
       "2004-08-24  55.439419  51.450363  55.260582  52.096165  15361800.0  52.096165\n",
       "2004-08-25  53.651051  51.604362  52.140873  52.657513   9257400.0  52.657513"
      ]
     },
     "execution_count": 52,
     "metadata": {},
     "output_type": "execute_result"
    }
   ],
   "source": [
    "stocks_4 = data.DataReader(name = \"GOOG\", data_source = \"yahoo\",\n",
    "                start = dt.date(2000, 1, 1), end = dt.datetime.now())\n",
    "\n",
    "stocks_4.head()"
   ]
  },
  {
   "cell_type": "code",
   "execution_count": 53,
   "metadata": {},
   "outputs": [
    {
     "data": {
      "text/plain": [
       "DatetimeIndex(['2004-07-31', '2004-07-31', '2004-07-31', '2004-07-31',\n",
       "               '2004-07-31', '2004-07-31', '2004-07-31', '2004-07-31',\n",
       "               '2004-07-31', '2004-08-31',\n",
       "               ...\n",
       "               '2019-04-30', '2019-04-30', '2019-04-30', '2019-04-30',\n",
       "               '2019-04-30', '2019-04-30', '2019-04-30', '2019-04-30',\n",
       "               '2019-04-30', '2019-04-30'],\n",
       "              dtype='datetime64[ns]', name='Date', length=3713, freq=None)"
      ]
     },
     "execution_count": 53,
     "metadata": {},
     "output_type": "execute_result"
    }
   ],
   "source": [
    "stocks_4.index - MonthEnd()\n",
    "# stocks_4.index - QuarterEnd()"
   ]
  },
  {
   "cell_type": "code",
   "execution_count": 54,
   "metadata": {},
   "outputs": [
    {
     "data": {
      "text/plain": [
       "DatetimeIndex(['2004-06-01', '2004-06-01', '2004-06-01', '2004-06-01',\n",
       "               '2004-06-01', '2004-06-01', '2004-06-01', '2004-06-01',\n",
       "               '2004-06-01', '2004-06-01',\n",
       "               ...\n",
       "               '2019-03-01', '2019-03-01', '2019-03-01', '2019-03-01',\n",
       "               '2019-03-01', '2019-03-01', '2019-03-01', '2019-03-01',\n",
       "               '2019-03-01', '2019-03-01'],\n",
       "              dtype='datetime64[ns]', name='Date', length=3713, freq=None)"
      ]
     },
     "execution_count": 54,
     "metadata": {},
     "output_type": "execute_result"
    }
   ],
   "source": [
    "stocks_4.index - QuarterBegin()"
   ]
  },
  {
   "cell_type": "code",
   "execution_count": 55,
   "metadata": {},
   "outputs": [
    {
     "data": {
      "text/plain": [
       "DatetimeIndex(['2004-07-30', '2004-07-30', '2004-07-30', '2004-07-30',\n",
       "               '2004-07-30', '2004-07-30', '2004-07-30', '2004-07-30',\n",
       "               '2004-07-30', '2004-08-31',\n",
       "               ...\n",
       "               '2019-04-30', '2019-04-30', '2019-04-30', '2019-04-30',\n",
       "               '2019-04-30', '2019-04-30', '2019-04-30', '2019-04-30',\n",
       "               '2019-04-30', '2019-04-30'],\n",
       "              dtype='datetime64[ns]', name='Date', length=3713, freq=None)"
      ]
     },
     "execution_count": 55,
     "metadata": {},
     "output_type": "execute_result"
    }
   ],
   "source": [
    "stocks_4.index - BMonthEnd()"
   ]
  },
  {
   "cell_type": "code",
   "execution_count": 56,
   "metadata": {},
   "outputs": [
    {
     "data": {
      "text/plain": [
       "DatetimeIndex(['2004-01-01', '2004-01-01', '2004-01-01', '2004-01-01',\n",
       "               '2004-01-01', '2004-01-01', '2004-01-01', '2004-01-01',\n",
       "               '2004-01-01', '2004-01-01',\n",
       "               ...\n",
       "               '2019-01-01', '2019-01-01', '2019-01-01', '2019-01-01',\n",
       "               '2019-01-01', '2019-01-01', '2019-01-01', '2019-01-01',\n",
       "               '2019-01-01', '2019-01-01'],\n",
       "              dtype='datetime64[ns]', name='Date', length=3713, freq=None)"
      ]
     },
     "execution_count": 56,
     "metadata": {},
     "output_type": "execute_result"
    }
   ],
   "source": [
    "stocks_4.index - YearBegin()"
   ]
  },
  {
   "cell_type": "markdown",
   "metadata": {},
   "source": [
    "## The `Timedelta` Object"
   ]
  },
  {
   "cell_type": "code",
   "execution_count": 57,
   "metadata": {},
   "outputs": [],
   "source": [
    "timeA = pd.Timestamp(\"2016-03-31 04:35:16 PM\")\n",
    "timeB = pd.Timestamp(\"2016-03-20 02:16:49 AM\")"
   ]
  },
  {
   "cell_type": "code",
   "execution_count": 58,
   "metadata": {},
   "outputs": [
    {
     "data": {
      "text/plain": [
       "Timedelta('-12 days +09:41:33')"
      ]
     },
     "execution_count": 58,
     "metadata": {},
     "output_type": "execute_result"
    }
   ],
   "source": [
    "timeB - timeA"
   ]
  },
  {
   "cell_type": "code",
   "execution_count": 59,
   "metadata": {},
   "outputs": [
    {
     "data": {
      "text/plain": [
       "pandas._libs.tslibs.timedeltas.Timedelta"
      ]
     },
     "execution_count": 59,
     "metadata": {},
     "output_type": "execute_result"
    }
   ],
   "source": [
    "type(timeA - timeB)"
   ]
  },
  {
   "cell_type": "code",
   "execution_count": 60,
   "metadata": {},
   "outputs": [
    {
     "data": {
      "text/plain": [
       "pandas._libs.tslibs.timestamps.Timestamp"
      ]
     },
     "execution_count": 60,
     "metadata": {},
     "output_type": "execute_result"
    }
   ],
   "source": [
    "type(timeA)"
   ]
  },
  {
   "cell_type": "code",
   "execution_count": 61,
   "metadata": {},
   "outputs": [
    {
     "data": {
      "text/plain": [
       "Timedelta('59 days 12:45:00')"
      ]
     },
     "execution_count": 61,
     "metadata": {},
     "output_type": "execute_result"
    }
   ],
   "source": [
    "pd.Timedelta(weeks = 8, days = 3, hours = 12, minutes = 45)"
   ]
  },
  {
   "cell_type": "code",
   "execution_count": 62,
   "metadata": {},
   "outputs": [
    {
     "data": {
      "text/plain": [
       "Timedelta('14 days 06:12:49')"
      ]
     },
     "execution_count": 62,
     "metadata": {},
     "output_type": "execute_result"
    }
   ],
   "source": [
    "pd.Timedelta(\"14 days 6 hours 12 minutes 49 seconds\")"
   ]
  },
  {
   "cell_type": "markdown",
   "metadata": {},
   "source": [
    "## `Timedeltas` in a Dataset"
   ]
  },
  {
   "cell_type": "code",
   "execution_count": 64,
   "metadata": {},
   "outputs": [
    {
     "data": {
      "text/html": [
       "<div>\n",
       "<style scoped>\n",
       "    .dataframe tbody tr th:only-of-type {\n",
       "        vertical-align: middle;\n",
       "    }\n",
       "\n",
       "    .dataframe tbody tr th {\n",
       "        vertical-align: top;\n",
       "    }\n",
       "\n",
       "    .dataframe thead th {\n",
       "        text-align: right;\n",
       "    }\n",
       "</style>\n",
       "<table border=\"1\" class=\"dataframe\">\n",
       "  <thead>\n",
       "    <tr style=\"text-align: right;\">\n",
       "      <th></th>\n",
       "      <th>order_date</th>\n",
       "      <th>delivery_date</th>\n",
       "    </tr>\n",
       "    <tr>\n",
       "      <th>ID</th>\n",
       "      <th></th>\n",
       "      <th></th>\n",
       "    </tr>\n",
       "  </thead>\n",
       "  <tbody>\n",
       "    <tr>\n",
       "      <th>1</th>\n",
       "      <td>1998-05-24</td>\n",
       "      <td>1999-02-05</td>\n",
       "    </tr>\n",
       "    <tr>\n",
       "      <th>2</th>\n",
       "      <td>1992-04-22</td>\n",
       "      <td>1998-03-06</td>\n",
       "    </tr>\n",
       "    <tr>\n",
       "      <th>4</th>\n",
       "      <td>1991-02-10</td>\n",
       "      <td>1992-08-26</td>\n",
       "    </tr>\n",
       "    <tr>\n",
       "      <th>5</th>\n",
       "      <td>1992-07-21</td>\n",
       "      <td>1997-11-20</td>\n",
       "    </tr>\n",
       "    <tr>\n",
       "      <th>7</th>\n",
       "      <td>1993-09-02</td>\n",
       "      <td>1998-06-10</td>\n",
       "    </tr>\n",
       "  </tbody>\n",
       "</table>\n",
       "</div>"
      ],
      "text/plain": [
       "   order_date delivery_date\n",
       "ID                         \n",
       "1  1998-05-24    1999-02-05\n",
       "2  1992-04-22    1998-03-06\n",
       "4  1991-02-10    1992-08-26\n",
       "5  1992-07-21    1997-11-20\n",
       "7  1993-09-02    1998-06-10"
      ]
     },
     "execution_count": 64,
     "metadata": {},
     "output_type": "execute_result"
    }
   ],
   "source": [
    "shipping = pd.read_csv(\"D:\\TUTORIALS\\Exercise Files - Data Analysis with Pandas and Python/ecommerce.csv\", index_col = \"ID\", parse_dates = [\"order_date\", \"delivery_date\"])\n",
    "shipping.head()"
   ]
  },
  {
   "cell_type": "code",
   "execution_count": 65,
   "metadata": {},
   "outputs": [],
   "source": [
    "shipping[\"Delivery Time\"] = shipping[\"delivery_date\"] - shipping[\"order_date\"]"
   ]
  },
  {
   "cell_type": "code",
   "execution_count": 66,
   "metadata": {},
   "outputs": [
    {
     "data": {
      "text/html": [
       "<div>\n",
       "<style scoped>\n",
       "    .dataframe tbody tr th:only-of-type {\n",
       "        vertical-align: middle;\n",
       "    }\n",
       "\n",
       "    .dataframe tbody tr th {\n",
       "        vertical-align: top;\n",
       "    }\n",
       "\n",
       "    .dataframe thead th {\n",
       "        text-align: right;\n",
       "    }\n",
       "</style>\n",
       "<table border=\"1\" class=\"dataframe\">\n",
       "  <thead>\n",
       "    <tr style=\"text-align: right;\">\n",
       "      <th></th>\n",
       "      <th>order_date</th>\n",
       "      <th>delivery_date</th>\n",
       "      <th>Delivery Time</th>\n",
       "    </tr>\n",
       "    <tr>\n",
       "      <th>ID</th>\n",
       "      <th></th>\n",
       "      <th></th>\n",
       "      <th></th>\n",
       "    </tr>\n",
       "  </thead>\n",
       "  <tbody>\n",
       "    <tr>\n",
       "      <th>1</th>\n",
       "      <td>1998-05-24</td>\n",
       "      <td>1999-02-05</td>\n",
       "      <td>257 days</td>\n",
       "    </tr>\n",
       "    <tr>\n",
       "      <th>2</th>\n",
       "      <td>1992-04-22</td>\n",
       "      <td>1998-03-06</td>\n",
       "      <td>2144 days</td>\n",
       "    </tr>\n",
       "    <tr>\n",
       "      <th>4</th>\n",
       "      <td>1991-02-10</td>\n",
       "      <td>1992-08-26</td>\n",
       "      <td>563 days</td>\n",
       "    </tr>\n",
       "    <tr>\n",
       "      <th>5</th>\n",
       "      <td>1992-07-21</td>\n",
       "      <td>1997-11-20</td>\n",
       "      <td>1948 days</td>\n",
       "    </tr>\n",
       "    <tr>\n",
       "      <th>7</th>\n",
       "      <td>1993-09-02</td>\n",
       "      <td>1998-06-10</td>\n",
       "      <td>1742 days</td>\n",
       "    </tr>\n",
       "  </tbody>\n",
       "</table>\n",
       "</div>"
      ],
      "text/plain": [
       "   order_date delivery_date Delivery Time\n",
       "ID                                       \n",
       "1  1998-05-24    1999-02-05      257 days\n",
       "2  1992-04-22    1998-03-06     2144 days\n",
       "4  1991-02-10    1992-08-26      563 days\n",
       "5  1992-07-21    1997-11-20     1948 days\n",
       "7  1993-09-02    1998-06-10     1742 days"
      ]
     },
     "execution_count": 66,
     "metadata": {},
     "output_type": "execute_result"
    }
   ],
   "source": [
    "shipping.head()"
   ]
  },
  {
   "cell_type": "code",
   "execution_count": 67,
   "metadata": {},
   "outputs": [],
   "source": [
    "shipping[\"Twice As Long\"] = shipping[\"delivery_date\"] + shipping[\"Delivery Time\"]"
   ]
  },
  {
   "cell_type": "code",
   "execution_count": 68,
   "metadata": {},
   "outputs": [
    {
     "data": {
      "text/html": [
       "<div>\n",
       "<style scoped>\n",
       "    .dataframe tbody tr th:only-of-type {\n",
       "        vertical-align: middle;\n",
       "    }\n",
       "\n",
       "    .dataframe tbody tr th {\n",
       "        vertical-align: top;\n",
       "    }\n",
       "\n",
       "    .dataframe thead th {\n",
       "        text-align: right;\n",
       "    }\n",
       "</style>\n",
       "<table border=\"1\" class=\"dataframe\">\n",
       "  <thead>\n",
       "    <tr style=\"text-align: right;\">\n",
       "      <th></th>\n",
       "      <th>order_date</th>\n",
       "      <th>delivery_date</th>\n",
       "      <th>Delivery Time</th>\n",
       "      <th>Twice As Long</th>\n",
       "    </tr>\n",
       "    <tr>\n",
       "      <th>ID</th>\n",
       "      <th></th>\n",
       "      <th></th>\n",
       "      <th></th>\n",
       "      <th></th>\n",
       "    </tr>\n",
       "  </thead>\n",
       "  <tbody>\n",
       "    <tr>\n",
       "      <th>1</th>\n",
       "      <td>1998-05-24</td>\n",
       "      <td>1999-02-05</td>\n",
       "      <td>257 days</td>\n",
       "      <td>1999-10-20</td>\n",
       "    </tr>\n",
       "    <tr>\n",
       "      <th>2</th>\n",
       "      <td>1992-04-22</td>\n",
       "      <td>1998-03-06</td>\n",
       "      <td>2144 days</td>\n",
       "      <td>2004-01-18</td>\n",
       "    </tr>\n",
       "    <tr>\n",
       "      <th>4</th>\n",
       "      <td>1991-02-10</td>\n",
       "      <td>1992-08-26</td>\n",
       "      <td>563 days</td>\n",
       "      <td>1994-03-12</td>\n",
       "    </tr>\n",
       "    <tr>\n",
       "      <th>5</th>\n",
       "      <td>1992-07-21</td>\n",
       "      <td>1997-11-20</td>\n",
       "      <td>1948 days</td>\n",
       "      <td>2003-03-22</td>\n",
       "    </tr>\n",
       "    <tr>\n",
       "      <th>7</th>\n",
       "      <td>1993-09-02</td>\n",
       "      <td>1998-06-10</td>\n",
       "      <td>1742 days</td>\n",
       "      <td>2003-03-18</td>\n",
       "    </tr>\n",
       "  </tbody>\n",
       "</table>\n",
       "</div>"
      ],
      "text/plain": [
       "   order_date delivery_date Delivery Time Twice As Long\n",
       "ID                                                     \n",
       "1  1998-05-24    1999-02-05      257 days    1999-10-20\n",
       "2  1992-04-22    1998-03-06     2144 days    2004-01-18\n",
       "4  1991-02-10    1992-08-26      563 days    1994-03-12\n",
       "5  1992-07-21    1997-11-20     1948 days    2003-03-22\n",
       "7  1993-09-02    1998-06-10     1742 days    2003-03-18"
      ]
     },
     "execution_count": 68,
     "metadata": {},
     "output_type": "execute_result"
    }
   ],
   "source": [
    "shipping.head()"
   ]
  },
  {
   "cell_type": "code",
   "execution_count": 69,
   "metadata": {},
   "outputs": [
    {
     "data": {
      "text/plain": [
       "order_date        datetime64[ns]\n",
       "delivery_date     datetime64[ns]\n",
       "Delivery Time    timedelta64[ns]\n",
       "Twice As Long     datetime64[ns]\n",
       "dtype: object"
      ]
     },
     "execution_count": 69,
     "metadata": {},
     "output_type": "execute_result"
    }
   ],
   "source": [
    "shipping.dtypes"
   ]
  },
  {
   "cell_type": "code",
   "execution_count": 70,
   "metadata": {},
   "outputs": [
    {
     "data": {
      "text/html": [
       "<div>\n",
       "<style scoped>\n",
       "    .dataframe tbody tr th:only-of-type {\n",
       "        vertical-align: middle;\n",
       "    }\n",
       "\n",
       "    .dataframe tbody tr th {\n",
       "        vertical-align: top;\n",
       "    }\n",
       "\n",
       "    .dataframe thead th {\n",
       "        text-align: right;\n",
       "    }\n",
       "</style>\n",
       "<table border=\"1\" class=\"dataframe\">\n",
       "  <thead>\n",
       "    <tr style=\"text-align: right;\">\n",
       "      <th></th>\n",
       "      <th>order_date</th>\n",
       "      <th>delivery_date</th>\n",
       "      <th>Delivery Time</th>\n",
       "      <th>Twice As Long</th>\n",
       "    </tr>\n",
       "    <tr>\n",
       "      <th>ID</th>\n",
       "      <th></th>\n",
       "      <th></th>\n",
       "      <th></th>\n",
       "      <th></th>\n",
       "    </tr>\n",
       "  </thead>\n",
       "  <tbody>\n",
       "    <tr>\n",
       "      <th>130</th>\n",
       "      <td>1990-04-02</td>\n",
       "      <td>1999-08-16</td>\n",
       "      <td>3423 days</td>\n",
       "      <td>2008-12-29</td>\n",
       "    </tr>\n",
       "  </tbody>\n",
       "</table>\n",
       "</div>"
      ],
      "text/plain": [
       "    order_date delivery_date Delivery Time Twice As Long\n",
       "ID                                                      \n",
       "130 1990-04-02    1999-08-16     3423 days    2008-12-29"
      ]
     },
     "execution_count": 70,
     "metadata": {},
     "output_type": "execute_result"
    }
   ],
   "source": [
    "mask = shipping[\"Delivery Time\"] == \"3423 days\"\n",
    "shipping[mask]"
   ]
  },
  {
   "cell_type": "code",
   "execution_count": 71,
   "metadata": {},
   "outputs": [
    {
     "data": {
      "text/plain": [
       "Timedelta('8 days 00:00:00')"
      ]
     },
     "execution_count": 71,
     "metadata": {},
     "output_type": "execute_result"
    }
   ],
   "source": [
    "shipping[\"Delivery Time\"].min()"
   ]
  },
  {
   "cell_type": "code",
   "execution_count": null,
   "metadata": {
    "collapsed": true
   },
   "outputs": [],
   "source": []
  },
  {
   "cell_type": "code",
   "execution_count": null,
   "metadata": {
    "collapsed": true
   },
   "outputs": [],
   "source": []
  }
 ],
 "metadata": {
  "anaconda-cloud": {},
  "kernelspec": {
   "display_name": "Python 3",
   "language": "python",
   "name": "python3"
  },
  "language_info": {
   "codemirror_mode": {
    "name": "ipython",
    "version": 3
   },
   "file_extension": ".py",
   "mimetype": "text/x-python",
   "name": "python",
   "nbconvert_exporter": "python",
   "pygments_lexer": "ipython3",
   "version": "3.7.0"
  }
 },
 "nbformat": 4,
 "nbformat_minor": 1
}
